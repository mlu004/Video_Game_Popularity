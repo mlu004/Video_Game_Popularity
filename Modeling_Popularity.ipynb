{
 "cells": [
  {
   "cell_type": "markdown",
   "id": "2f1ab30a",
   "metadata": {},
   "source": [
    "# Modeling Video Game Popularity\n",
    "\n",
    "In the previous notebook we looked at several data sets, to determine threshold values and ways to determine popularity. After noting which datasets lacked sufficient information and what datasets we could combine, we have settled on 3 sets to model with. The one we will be looking at is the 2019 Steam Tag data, the other two will be for personal curiosity to see if we get significantly different results. These two additional sets will be the 2019 Video Game Sales data and the Merged data set, they will not be ran in this notebook but could easily be switched in if desired.\n",
    "\n",
    "#### Things to note that have been done:\n",
    "\n",
    "- Dropped columns that were not independent variables (Ie. an individual does not have control over these when designing the game) other than the variable we chose to determine popularity (Rating).\n",
    "- Created dummy variables of categorical values\n",
    "- Train_test_split:\n",
    " - We chose our dependent variable to be categorical of Popularity, which is determined by if a game achieved more than 70% rating\n",
    " \n",
    "#### What we will be doing in this notebook: \n",
    "\n",
    "Selecting a model that works best to predict the popularity of a game, and thus informing us as to what features are most important to have in our games. We will be looking at Logistic Regression, K-Nearest Neighbors, Support vector Machines, and Random Forests."
   ]
  },
  {
   "cell_type": "code",
   "execution_count": 1,
   "id": "6389fe43",
   "metadata": {},
   "outputs": [],
   "source": [
    "import pandas as pd\n",
    "import seaborn as sns\n",
    "import numpy as np\n",
    "import matplotlib.pyplot as plt\n",
    "import math\n",
    "\n",
    "from sklearn.linear_model import LogisticRegression\n",
    "from sklearn.model_selection import GridSearchCV\n",
    "from sklearn.metrics import accuracy_score\n",
    "from sklearn.model_selection import validation_curve\n",
    "\n",
    "import warnings\n",
    "warnings.filterwarnings('ignore')"
   ]
  },
  {
   "cell_type": "markdown",
   "id": "a8df64ae",
   "metadata": {},
   "source": [
    "## Loading Training data:"
   ]
  },
  {
   "cell_type": "code",
   "execution_count": 2,
   "id": "016609b3",
   "metadata": {},
   "outputs": [],
   "source": [
    "x_train = pd.read_csv(\"C:/Users/book_/OneDrive/Documents/GitHub/Capstone2-Video-Game-Popularity/preprocessed_data/x_steam_train.csv\", index_col=0)\n",
    "y_train = pd.read_csv(\"C:/Users/book_/OneDrive/Documents/GitHub/Capstone2-Video-Game-Popularity/preprocessed_data/y_steam_train.csv\", index_col=0)\n",
    "\n",
    "x_test = pd.read_csv(\"C:/Users/book_/OneDrive/Documents/GitHub/Capstone2-Video-Game-Popularity/preprocessed_data/x_steam_test.csv\", index_col=0)\n",
    "y_test = pd.read_csv(\"C:/Users/book_/OneDrive/Documents/GitHub/Capstone2-Video-Game-Popularity/preprocessed_data/y_steam_test.csv\", index_col=0)\n"
   ]
  },
  {
   "cell_type": "code",
   "execution_count": 3,
   "id": "085db3a5",
   "metadata": {},
   "outputs": [
    {
     "data": {
      "text/html": [
       "<div>\n",
       "<style scoped>\n",
       "    .dataframe tbody tr th:only-of-type {\n",
       "        vertical-align: middle;\n",
       "    }\n",
       "\n",
       "    .dataframe tbody tr th {\n",
       "        vertical-align: top;\n",
       "    }\n",
       "\n",
       "    .dataframe thead th {\n",
       "        text-align: right;\n",
       "    }\n",
       "</style>\n",
       "<table border=\"1\" class=\"dataframe\">\n",
       "  <thead>\n",
       "    <tr style=\"text-align: right;\">\n",
       "      <th></th>\n",
       "      <th>english</th>\n",
       "      <th>required_age</th>\n",
       "      <th>achievements</th>\n",
       "      <th>median_playtime</th>\n",
       "      <th>price</th>\n",
       "      <th>1980s</th>\n",
       "      <th>1990s</th>\n",
       "      <th>2.5d</th>\n",
       "      <th>2d</th>\n",
       "      <th>2d_fighter</th>\n",
       "      <th>...</th>\n",
       "      <th>developer_azimut team</th>\n",
       "      <th>developer_b-alive gmbh</th>\n",
       "      <th>developer_baKno Games</th>\n",
       "      <th>developer_e-FunSoft Games</th>\n",
       "      <th>developer_ebi-hime</th>\n",
       "      <th>developer_hallunazigames</th>\n",
       "      <th>developer_id Software</th>\n",
       "      <th>developer_stariy8419</th>\n",
       "      <th>developer_upjers</th>\n",
       "      <th>developer_vadimalexepta</th>\n",
       "    </tr>\n",
       "  </thead>\n",
       "  <tbody>\n",
       "    <tr>\n",
       "      <th>0</th>\n",
       "      <td>0.139753</td>\n",
       "      <td>-0.150294</td>\n",
       "      <td>-0.092509</td>\n",
       "      <td>-0.026596</td>\n",
       "      <td>-0.117288</td>\n",
       "      <td>-0.014531</td>\n",
       "      <td>0.0</td>\n",
       "      <td>-0.012584</td>\n",
       "      <td>-0.065521</td>\n",
       "      <td>-0.028147</td>\n",
       "      <td>...</td>\n",
       "      <td>-0.020552</td>\n",
       "      <td>-0.025173</td>\n",
       "      <td>-0.022978</td>\n",
       "      <td>-0.019224</td>\n",
       "      <td>-0.021799</td>\n",
       "      <td>-0.025173</td>\n",
       "      <td>-0.026202</td>\n",
       "      <td>-0.019224</td>\n",
       "      <td>-0.021799</td>\n",
       "      <td>-0.022978</td>\n",
       "    </tr>\n",
       "    <tr>\n",
       "      <th>1</th>\n",
       "      <td>0.139753</td>\n",
       "      <td>-0.150294</td>\n",
       "      <td>-0.127883</td>\n",
       "      <td>0.031470</td>\n",
       "      <td>-0.676471</td>\n",
       "      <td>-0.014531</td>\n",
       "      <td>0.0</td>\n",
       "      <td>-0.012584</td>\n",
       "      <td>-0.065521</td>\n",
       "      <td>-0.028147</td>\n",
       "      <td>...</td>\n",
       "      <td>-0.020552</td>\n",
       "      <td>-0.025173</td>\n",
       "      <td>-0.022978</td>\n",
       "      <td>-0.019224</td>\n",
       "      <td>-0.021799</td>\n",
       "      <td>-0.025173</td>\n",
       "      <td>-0.026202</td>\n",
       "      <td>-0.019224</td>\n",
       "      <td>-0.021799</td>\n",
       "      <td>-0.022978</td>\n",
       "    </tr>\n",
       "    <tr>\n",
       "      <th>2</th>\n",
       "      <td>0.139753</td>\n",
       "      <td>-0.150294</td>\n",
       "      <td>-0.127883</td>\n",
       "      <td>0.047384</td>\n",
       "      <td>-0.562093</td>\n",
       "      <td>-0.014531</td>\n",
       "      <td>0.0</td>\n",
       "      <td>-0.012584</td>\n",
       "      <td>-0.065521</td>\n",
       "      <td>-0.028147</td>\n",
       "      <td>...</td>\n",
       "      <td>-0.020552</td>\n",
       "      <td>-0.025173</td>\n",
       "      <td>-0.022978</td>\n",
       "      <td>-0.019224</td>\n",
       "      <td>-0.021799</td>\n",
       "      <td>-0.025173</td>\n",
       "      <td>-0.026202</td>\n",
       "      <td>-0.019224</td>\n",
       "      <td>-0.021799</td>\n",
       "      <td>-0.022978</td>\n",
       "    </tr>\n",
       "    <tr>\n",
       "      <th>3</th>\n",
       "      <td>0.139753</td>\n",
       "      <td>-0.150294</td>\n",
       "      <td>-0.127883</td>\n",
       "      <td>-0.062726</td>\n",
       "      <td>0.111469</td>\n",
       "      <td>-0.014531</td>\n",
       "      <td>0.0</td>\n",
       "      <td>-0.012584</td>\n",
       "      <td>-0.065521</td>\n",
       "      <td>-0.028147</td>\n",
       "      <td>...</td>\n",
       "      <td>-0.020552</td>\n",
       "      <td>-0.025173</td>\n",
       "      <td>-0.022978</td>\n",
       "      <td>-0.019224</td>\n",
       "      <td>-0.021799</td>\n",
       "      <td>-0.025173</td>\n",
       "      <td>-0.026202</td>\n",
       "      <td>-0.019224</td>\n",
       "      <td>-0.021799</td>\n",
       "      <td>-0.022978</td>\n",
       "    </tr>\n",
       "    <tr>\n",
       "      <th>4</th>\n",
       "      <td>0.139753</td>\n",
       "      <td>-0.150294</td>\n",
       "      <td>-0.127883</td>\n",
       "      <td>-0.062726</td>\n",
       "      <td>1.191710</td>\n",
       "      <td>-0.014531</td>\n",
       "      <td>0.0</td>\n",
       "      <td>-0.012584</td>\n",
       "      <td>-0.065521</td>\n",
       "      <td>-0.028147</td>\n",
       "      <td>...</td>\n",
       "      <td>-0.020552</td>\n",
       "      <td>-0.025173</td>\n",
       "      <td>-0.022978</td>\n",
       "      <td>-0.019224</td>\n",
       "      <td>-0.021799</td>\n",
       "      <td>-0.025173</td>\n",
       "      <td>-0.026202</td>\n",
       "      <td>-0.019224</td>\n",
       "      <td>-0.021799</td>\n",
       "      <td>-0.022978</td>\n",
       "    </tr>\n",
       "    <tr>\n",
       "      <th>...</th>\n",
       "      <td>...</td>\n",
       "      <td>...</td>\n",
       "      <td>...</td>\n",
       "      <td>...</td>\n",
       "      <td>...</td>\n",
       "      <td>...</td>\n",
       "      <td>...</td>\n",
       "      <td>...</td>\n",
       "      <td>...</td>\n",
       "      <td>...</td>\n",
       "      <td>...</td>\n",
       "      <td>...</td>\n",
       "      <td>...</td>\n",
       "      <td>...</td>\n",
       "      <td>...</td>\n",
       "      <td>...</td>\n",
       "      <td>...</td>\n",
       "      <td>...</td>\n",
       "      <td>...</td>\n",
       "      <td>...</td>\n",
       "      <td>...</td>\n",
       "    </tr>\n",
       "    <tr>\n",
       "      <th>18944</th>\n",
       "      <td>0.139753</td>\n",
       "      <td>-0.150294</td>\n",
       "      <td>-0.127883</td>\n",
       "      <td>-0.062726</td>\n",
       "      <td>0.683361</td>\n",
       "      <td>-0.014531</td>\n",
       "      <td>0.0</td>\n",
       "      <td>-0.012584</td>\n",
       "      <td>-0.065521</td>\n",
       "      <td>-0.028147</td>\n",
       "      <td>...</td>\n",
       "      <td>-0.020552</td>\n",
       "      <td>-0.025173</td>\n",
       "      <td>-0.022978</td>\n",
       "      <td>-0.019224</td>\n",
       "      <td>-0.021799</td>\n",
       "      <td>-0.025173</td>\n",
       "      <td>-0.026202</td>\n",
       "      <td>-0.019224</td>\n",
       "      <td>-0.021799</td>\n",
       "      <td>-0.022978</td>\n",
       "    </tr>\n",
       "    <tr>\n",
       "      <th>18945</th>\n",
       "      <td>0.139753</td>\n",
       "      <td>-0.150294</td>\n",
       "      <td>0.850811</td>\n",
       "      <td>-0.062726</td>\n",
       "      <td>-0.574802</td>\n",
       "      <td>-0.014531</td>\n",
       "      <td>0.0</td>\n",
       "      <td>-0.012584</td>\n",
       "      <td>-0.065521</td>\n",
       "      <td>-0.028147</td>\n",
       "      <td>...</td>\n",
       "      <td>-0.020552</td>\n",
       "      <td>-0.025173</td>\n",
       "      <td>-0.022978</td>\n",
       "      <td>-0.019224</td>\n",
       "      <td>-0.021799</td>\n",
       "      <td>-0.025173</td>\n",
       "      <td>-0.026202</td>\n",
       "      <td>-0.019224</td>\n",
       "      <td>-0.021799</td>\n",
       "      <td>-0.022978</td>\n",
       "    </tr>\n",
       "    <tr>\n",
       "      <th>18946</th>\n",
       "      <td>0.139753</td>\n",
       "      <td>-0.150294</td>\n",
       "      <td>-0.127883</td>\n",
       "      <td>-0.058855</td>\n",
       "      <td>-0.776870</td>\n",
       "      <td>-0.014531</td>\n",
       "      <td>0.0</td>\n",
       "      <td>-0.012584</td>\n",
       "      <td>-0.065521</td>\n",
       "      <td>-0.028147</td>\n",
       "      <td>...</td>\n",
       "      <td>-0.020552</td>\n",
       "      <td>-0.025173</td>\n",
       "      <td>-0.022978</td>\n",
       "      <td>-0.019224</td>\n",
       "      <td>-0.021799</td>\n",
       "      <td>-0.025173</td>\n",
       "      <td>-0.026202</td>\n",
       "      <td>-0.019224</td>\n",
       "      <td>-0.021799</td>\n",
       "      <td>-0.022978</td>\n",
       "    </tr>\n",
       "    <tr>\n",
       "      <th>18947</th>\n",
       "      <td>0.139753</td>\n",
       "      <td>-0.150294</td>\n",
       "      <td>-0.127883</td>\n",
       "      <td>-0.062726</td>\n",
       "      <td>-0.676471</td>\n",
       "      <td>-0.014531</td>\n",
       "      <td>0.0</td>\n",
       "      <td>-0.012584</td>\n",
       "      <td>-0.065521</td>\n",
       "      <td>-0.028147</td>\n",
       "      <td>...</td>\n",
       "      <td>-0.020552</td>\n",
       "      <td>-0.025173</td>\n",
       "      <td>-0.022978</td>\n",
       "      <td>-0.019224</td>\n",
       "      <td>-0.021799</td>\n",
       "      <td>-0.025173</td>\n",
       "      <td>-0.026202</td>\n",
       "      <td>-0.019224</td>\n",
       "      <td>-0.021799</td>\n",
       "      <td>-0.022978</td>\n",
       "    </tr>\n",
       "    <tr>\n",
       "      <th>18948</th>\n",
       "      <td>0.139753</td>\n",
       "      <td>-0.150294</td>\n",
       "      <td>-0.104300</td>\n",
       "      <td>-0.062726</td>\n",
       "      <td>0.797740</td>\n",
       "      <td>-0.014531</td>\n",
       "      <td>0.0</td>\n",
       "      <td>-0.012584</td>\n",
       "      <td>-0.065521</td>\n",
       "      <td>-0.028147</td>\n",
       "      <td>...</td>\n",
       "      <td>-0.020552</td>\n",
       "      <td>-0.025173</td>\n",
       "      <td>-0.022978</td>\n",
       "      <td>-0.019224</td>\n",
       "      <td>-0.021799</td>\n",
       "      <td>-0.025173</td>\n",
       "      <td>-0.026202</td>\n",
       "      <td>-0.019224</td>\n",
       "      <td>-0.021799</td>\n",
       "      <td>-0.022978</td>\n",
       "    </tr>\n",
       "  </tbody>\n",
       "</table>\n",
       "<p>18949 rows × 1476 columns</p>\n",
       "</div>"
      ],
      "text/plain": [
       "        english  required_age  achievements  median_playtime     price  \\\n",
       "0      0.139753     -0.150294     -0.092509        -0.026596 -0.117288   \n",
       "1      0.139753     -0.150294     -0.127883         0.031470 -0.676471   \n",
       "2      0.139753     -0.150294     -0.127883         0.047384 -0.562093   \n",
       "3      0.139753     -0.150294     -0.127883        -0.062726  0.111469   \n",
       "4      0.139753     -0.150294     -0.127883        -0.062726  1.191710   \n",
       "...         ...           ...           ...              ...       ...   \n",
       "18944  0.139753     -0.150294     -0.127883        -0.062726  0.683361   \n",
       "18945  0.139753     -0.150294      0.850811        -0.062726 -0.574802   \n",
       "18946  0.139753     -0.150294     -0.127883        -0.058855 -0.776870   \n",
       "18947  0.139753     -0.150294     -0.127883        -0.062726 -0.676471   \n",
       "18948  0.139753     -0.150294     -0.104300        -0.062726  0.797740   \n",
       "\n",
       "          1980s  1990s      2.5d        2d  2d_fighter  ...  \\\n",
       "0     -0.014531    0.0 -0.012584 -0.065521   -0.028147  ...   \n",
       "1     -0.014531    0.0 -0.012584 -0.065521   -0.028147  ...   \n",
       "2     -0.014531    0.0 -0.012584 -0.065521   -0.028147  ...   \n",
       "3     -0.014531    0.0 -0.012584 -0.065521   -0.028147  ...   \n",
       "4     -0.014531    0.0 -0.012584 -0.065521   -0.028147  ...   \n",
       "...         ...    ...       ...       ...         ...  ...   \n",
       "18944 -0.014531    0.0 -0.012584 -0.065521   -0.028147  ...   \n",
       "18945 -0.014531    0.0 -0.012584 -0.065521   -0.028147  ...   \n",
       "18946 -0.014531    0.0 -0.012584 -0.065521   -0.028147  ...   \n",
       "18947 -0.014531    0.0 -0.012584 -0.065521   -0.028147  ...   \n",
       "18948 -0.014531    0.0 -0.012584 -0.065521   -0.028147  ...   \n",
       "\n",
       "       developer_azimut team  developer_b-alive gmbh  developer_baKno Games  \\\n",
       "0                  -0.020552               -0.025173              -0.022978   \n",
       "1                  -0.020552               -0.025173              -0.022978   \n",
       "2                  -0.020552               -0.025173              -0.022978   \n",
       "3                  -0.020552               -0.025173              -0.022978   \n",
       "4                  -0.020552               -0.025173              -0.022978   \n",
       "...                      ...                     ...                    ...   \n",
       "18944              -0.020552               -0.025173              -0.022978   \n",
       "18945              -0.020552               -0.025173              -0.022978   \n",
       "18946              -0.020552               -0.025173              -0.022978   \n",
       "18947              -0.020552               -0.025173              -0.022978   \n",
       "18948              -0.020552               -0.025173              -0.022978   \n",
       "\n",
       "       developer_e-FunSoft Games  developer_ebi-hime  \\\n",
       "0                      -0.019224           -0.021799   \n",
       "1                      -0.019224           -0.021799   \n",
       "2                      -0.019224           -0.021799   \n",
       "3                      -0.019224           -0.021799   \n",
       "4                      -0.019224           -0.021799   \n",
       "...                          ...                 ...   \n",
       "18944                  -0.019224           -0.021799   \n",
       "18945                  -0.019224           -0.021799   \n",
       "18946                  -0.019224           -0.021799   \n",
       "18947                  -0.019224           -0.021799   \n",
       "18948                  -0.019224           -0.021799   \n",
       "\n",
       "       developer_hallunazigames  developer_id Software  developer_stariy8419  \\\n",
       "0                     -0.025173              -0.026202             -0.019224   \n",
       "1                     -0.025173              -0.026202             -0.019224   \n",
       "2                     -0.025173              -0.026202             -0.019224   \n",
       "3                     -0.025173              -0.026202             -0.019224   \n",
       "4                     -0.025173              -0.026202             -0.019224   \n",
       "...                         ...                    ...                   ...   \n",
       "18944                 -0.025173              -0.026202             -0.019224   \n",
       "18945                 -0.025173              -0.026202             -0.019224   \n",
       "18946                 -0.025173              -0.026202             -0.019224   \n",
       "18947                 -0.025173              -0.026202             -0.019224   \n",
       "18948                 -0.025173              -0.026202             -0.019224   \n",
       "\n",
       "       developer_upjers  developer_vadimalexepta  \n",
       "0             -0.021799                -0.022978  \n",
       "1             -0.021799                -0.022978  \n",
       "2             -0.021799                -0.022978  \n",
       "3             -0.021799                -0.022978  \n",
       "4             -0.021799                -0.022978  \n",
       "...                 ...                      ...  \n",
       "18944         -0.021799                -0.022978  \n",
       "18945         -0.021799                -0.022978  \n",
       "18946         -0.021799                -0.022978  \n",
       "18947         -0.021799                -0.022978  \n",
       "18948         -0.021799                -0.022978  \n",
       "\n",
       "[18949 rows x 1476 columns]"
      ]
     },
     "execution_count": 3,
     "metadata": {},
     "output_type": "execute_result"
    }
   ],
   "source": [
    "x_train"
   ]
  },
  {
   "cell_type": "code",
   "execution_count": 4,
   "id": "23c2f4d6",
   "metadata": {},
   "outputs": [
    {
     "name": "stdout",
     "output_type": "stream",
     "text": [
      "(18949, 1476)\n",
      "(18949, 1)\n"
     ]
    }
   ],
   "source": [
    "print(x_train.shape)\n",
    "print(y_train.shape)"
   ]
  },
  {
   "cell_type": "markdown",
   "id": "4c9df75e",
   "metadata": {},
   "source": [
    "### I. Logistic Regression"
   ]
  },
  {
   "cell_type": "code",
   "execution_count": 5,
   "id": "f3ae0554",
   "metadata": {},
   "outputs": [
    {
     "data": {
      "text/html": [
       "<div>\n",
       "<style scoped>\n",
       "    .dataframe tbody tr th:only-of-type {\n",
       "        vertical-align: middle;\n",
       "    }\n",
       "\n",
       "    .dataframe tbody tr th {\n",
       "        vertical-align: top;\n",
       "    }\n",
       "\n",
       "    .dataframe thead th {\n",
       "        text-align: right;\n",
       "    }\n",
       "</style>\n",
       "<table border=\"1\" class=\"dataframe\">\n",
       "  <thead>\n",
       "    <tr style=\"text-align: right;\">\n",
       "      <th></th>\n",
       "      <th>C_parameter</th>\n",
       "      <th>Accuracy</th>\n",
       "    </tr>\n",
       "  </thead>\n",
       "  <tbody>\n",
       "    <tr>\n",
       "      <th>0</th>\n",
       "      <td>0.001</td>\n",
       "      <td>0.663383</td>\n",
       "    </tr>\n",
       "    <tr>\n",
       "      <th>1</th>\n",
       "      <td>0.010</td>\n",
       "      <td>0.663383</td>\n",
       "    </tr>\n",
       "    <tr>\n",
       "      <th>2</th>\n",
       "      <td>0.100</td>\n",
       "      <td>0.662645</td>\n",
       "    </tr>\n",
       "    <tr>\n",
       "      <th>3</th>\n",
       "      <td>1.000</td>\n",
       "      <td>0.662522</td>\n",
       "    </tr>\n",
       "    <tr>\n",
       "      <th>4</th>\n",
       "      <td>10.000</td>\n",
       "      <td>0.662645</td>\n",
       "    </tr>\n",
       "    <tr>\n",
       "      <th>5</th>\n",
       "      <td>100.000</td>\n",
       "      <td>0.662645</td>\n",
       "    </tr>\n",
       "  </tbody>\n",
       "</table>\n",
       "</div>"
      ],
      "text/plain": [
       "   C_parameter  Accuracy\n",
       "0        0.001  0.663383\n",
       "1        0.010  0.663383\n",
       "2        0.100  0.662645\n",
       "3        1.000  0.662522\n",
       "4       10.000  0.662645\n",
       "5      100.000  0.662645"
      ]
     },
     "execution_count": 5,
     "metadata": {},
     "output_type": "execute_result"
    }
   ],
   "source": [
    "C_param_range = [0.001,0.01,0.1,1,10,100]\n",
    "\n",
    "table = pd.DataFrame(columns = ['C_parameter','Accuracy'])\n",
    "table['C_parameter'] = C_param_range\n",
    "\n",
    "\n",
    "j = 0\n",
    "for i in C_param_range:\n",
    "    \n",
    "    # Apply logistic regression model to training data\n",
    "    Logreg = LogisticRegression(penalty = 'l2', C = i,random_state = 40)\n",
    "    Logreg.fit(x_train,y_train)\n",
    "    \n",
    "    # Predict using model\n",
    "    y_pred_lr = Logreg.predict(x_test)\n",
    "    \n",
    "    # Saving accuracy score in table\n",
    "    table.iloc[j,1] = accuracy_score(y_test,y_pred_lr)\n",
    "    j += 1\n",
    "    \n",
    "table"
   ]
  },
  {
   "cell_type": "code",
   "execution_count": 6,
   "id": "4d6c53b3",
   "metadata": {},
   "outputs": [
    {
     "name": "stdout",
     "output_type": "stream",
     "text": [
      "[[1233 2034]\n",
      " [ 706 4149]]\n",
      "0.662644668800788\n"
     ]
    }
   ],
   "source": [
    "from sklearn.metrics import confusion_matrix\n",
    "\n",
    "cnf_matrix= confusion_matrix(y_test,y_pred_lr)\n",
    "print(cnf_matrix)\n",
    "Accuracy_lr=Logreg.score(x_test,y_test)\n",
    "\n",
    "print(Accuracy_lr)"
   ]
  },
  {
   "cell_type": "markdown",
   "id": "0bbb5ac7",
   "metadata": {},
   "source": [
    "Looks like our accuracy for a linear regression is 0.67 no matter what our parameter is set to."
   ]
  },
  {
   "cell_type": "code",
   "execution_count": 7,
   "id": "9d02a432",
   "metadata": {},
   "outputs": [
    {
     "name": "stdout",
     "output_type": "stream",
     "text": [
      "[0.66038511 0.63464555 0.65897001 0.64327362 0.6604328 ]\n",
      "Mean cross validation test score: 0.6515414163038555\n",
      "Mean cross validation train score: 0.692405285464609\n",
      "Standard deviation in cv test scores: 0.010642166000272322\n"
     ]
    }
   ],
   "source": [
    "from sklearn.model_selection import cross_val_score\n",
    "\n",
    "cv_scores_test= cross_val_score(Logreg,x_test,y_test,cv=5,scoring='roc_auc')\n",
    "cv_scores_train= cross_val_score(Logreg,x_train,y_train,cv=5,scoring='roc_auc')\n",
    "print(cv_scores_test)\n",
    "cv_scores_lr_test= cv_scores_test.mean()\n",
    "cv_scores_lr_train= cv_scores_train.mean()\n",
    "cv_scores_std_test_lr= cv_scores_test.std()\n",
    "print ('Mean cross validation test score: ' +str(cv_scores_lr_test))\n",
    "print ('Mean cross validation train score: ' +str(cv_scores_lr_train))\n",
    "print ('Standard deviation in cv test scores: ' +str(cv_scores_std_test_lr))"
   ]
  },
  {
   "cell_type": "markdown",
   "id": "8084e64a",
   "metadata": {},
   "source": [
    "## II. K-Nearest Neighbor (KNN):"
   ]
  },
  {
   "cell_type": "code",
   "execution_count": 8,
   "id": "26fbcc18",
   "metadata": {},
   "outputs": [
    {
     "name": "stdout",
     "output_type": "stream",
     "text": [
      "[[1521 1746]\n",
      " [1173 3682]]\n",
      "0.6406057621275548\n"
     ]
    },
    {
     "data": {
      "image/png": "[encoded data removed]",
      "text/plain": [
       "<Figure size 432x288 with 1 Axes>"
      ]
     },
     "metadata": {
      "needs_background": "light"
     },
     "output_type": "display_data"
    }
   ],
   "source": [
    "from sklearn.neighbors import KNeighborsClassifier\n",
    "from sklearn.metrics import plot_roc_curve\n",
    "\n",
    "# Apply KNN model to training data:\n",
    "\n",
    "knn = KNeighborsClassifier(p=2,weights='distance',n_neighbors=50)\n",
    "knn.fit(x_train,y_train)\n",
    "\n",
    "# Predict using model:\n",
    "\n",
    "y_predict_knn=knn.predict(x_test)\n",
    "\n",
    "#Confusion matrix:\n",
    "\n",
    "cnf_matrix = confusion_matrix(y_test, y_predict_knn)\n",
    "print(cnf_matrix)\n",
    "Accuracy_knn=knn.score(x_test,y_test)\n",
    "\n",
    "print(Accuracy_knn)\n",
    "knn_disp= plot_roc_curve(knn,x_test,y_test)"
   ]
  },
  {
   "cell_type": "code",
   "execution_count": 9,
   "id": "6420a594",
   "metadata": {},
   "outputs": [
    {
     "name": "stdout",
     "output_type": "stream",
     "text": [
      "[0.62981982 0.61249398 0.62766949 0.62426052 0.65845586]\n",
      "Mean cross validation test score: 0.630539934770757\n",
      "Mean cross validation train score: 0.6559276061532836\n",
      "Standard deviation in cv scores: 0.015186472216413739\n"
     ]
    }
   ],
   "source": [
    "cv_scores_test= cross_val_score(knn,x_test,y_test,cv=5,scoring='roc_auc')\n",
    "cv_scores_train= cross_val_score(knn,x_train,y_train,cv=5,scoring='roc_auc')\n",
    "print(cv_scores_test)\n",
    "cv_scores_knn_test= cv_scores_test.mean()\n",
    "cv_scores_knn_train= cv_scores_train.mean()\n",
    "cv_scores_std_knn= cv_scores_test.std()\n",
    "print ('Mean cross validation test score: ' +str(cv_scores_knn_test))\n",
    "print ('Mean cross validation train score: ' +str(cv_scores_knn_train))\n",
    "print ('Standard deviation in cv scores: ' +str(cv_scores_std_knn))"
   ]
  },
  {
   "cell_type": "markdown",
   "id": "137c3daf",
   "metadata": {},
   "source": [
    "## III. Support Vector Machine (SVM):"
   ]
  },
  {
   "cell_type": "code",
   "execution_count": 10,
   "id": "9807585d",
   "metadata": {},
   "outputs": [],
   "source": [
    "from sklearn.svm import SVC\n",
    "\n",
    "# svm = SVC(kernel='linear')\n",
    "# svm.fit(x_train, y_train)\n",
    "\n",
    "# # Predict using model:\n",
    "\n",
    "# y_predict_svm=svm.predict(x_test)\n",
    "\n",
    "# #Confusion matrix:\n",
    "\n",
    "# cnf_matrix = confusion_matrix(y_test, y_predict_svm)\n",
    "# print(cnf_matrix)\n",
    "\n",
    "# Accuracy_svm=svm.score(x_test,y_test)\n",
    "# print(Accuracy_svm)"
   ]
  },
  {
   "cell_type": "code",
   "execution_count": 11,
   "id": "b2be74b6",
   "metadata": {},
   "outputs": [],
   "source": [
    "# cv_scores_test= cross_val_score(svm,x_test,y_test,cv=5,scoring='roc_auc')\n",
    "# cv_scores_train= cross_val_score(svm,x_train,y_train,cv=5,scoring='roc_auc')\n",
    "# print(cv_scores_test)\n",
    "# cv_scores_svm_test= cv_scores_test.mean()\n",
    "# cv_scores_svm_train= cv_scores_train.mean()\n",
    "# cv_scores_std_svm= cv_scores_test.std()\n",
    "# print ('Mean cross validation test score: ' +str(cv_scores_svm_test))\n",
    "# print ('Mean cross validation train score: ' +str(cv_scores_svm_train))\n",
    "# print ('Standard deviation in cv scores: ' +str(cv_scores_std_svm))"
   ]
  },
  {
   "cell_type": "markdown",
   "id": "0624e5be",
   "metadata": {},
   "source": [
    "The SVM cells took too long for my computer to run. Here is the Accuracy_smv results. The computer could not handle cross validation:\n",
    "\n",
    "[[ 962 2303]\n",
    "\n",
    " [ 435 4422]]\n",
    "\n",
    "0.6628909135680867"
   ]
  },
  {
   "cell_type": "markdown",
   "id": "1f1b0038",
   "metadata": {},
   "source": [
    "## IV. Random Forest:"
   ]
  },
  {
   "cell_type": "code",
   "execution_count": 12,
   "id": "85f43228",
   "metadata": {},
   "outputs": [
    {
     "name": "stdout",
     "output_type": "stream",
     "text": [
      "[[1599 1668]\n",
      " [1212 3643]]\n",
      "0.6454075350898794\n"
     ]
    }
   ],
   "source": [
    "from sklearn.ensemble import RandomForestClassifier\n",
    "\n",
    "#Apply RF to the training data:\n",
    "\n",
    "rf = RandomForestClassifier(bootstrap=True,n_estimators=100,criterion='entropy')\n",
    "rf.fit(x_train, y_train)\n",
    "\n",
    "#Predict using the model:\n",
    "\n",
    "y_predict_rf = rf.predict(x_test)\n",
    "\n",
    "#Confusion matrix:\n",
    "\n",
    "cnf_matrix = confusion_matrix(y_test, y_predict_rf)\n",
    "print(cnf_matrix)\n",
    "Accuracy_rf=rf.score(x_test,y_test)\n",
    "print(Accuracy_rf)"
   ]
  },
  {
   "cell_type": "code",
   "execution_count": 13,
   "id": "73a6c2b3",
   "metadata": {},
   "outputs": [
    {
     "name": "stdout",
     "output_type": "stream",
     "text": [
      "[0.66861223 0.62895058 0.66235059 0.65010259 0.67000361]\n",
      "Mean cross validation test score: 0.6560039196463953\n",
      "Mean cross validation train score: 0.6804553150267598\n",
      "Standard deviation in cv scores: 0.015244344299003499\n"
     ]
    }
   ],
   "source": [
    "cv_scores_test= cross_val_score(rf,x_test,y_test,cv=5,scoring='roc_auc')\n",
    "cv_scores_train= cross_val_score(rf,x_train,y_train,cv=5,scoring='roc_auc')\n",
    "print(cv_scores_test)\n",
    "cv_scores_rf_test= cv_scores_test.mean()\n",
    "cv_scores_rf_train= cv_scores_train.mean()\n",
    "cv_scores_std_rf= cv_scores_test.std()\n",
    "print ('Mean cross validation test score: ' +str(cv_scores_rf_test))\n",
    "print ('Mean cross validation train score: ' +str(cv_scores_rf_train))\n",
    "print ('Standard deviation in cv scores: ' +str(cv_scores_std_rf))"
   ]
  },
  {
   "cell_type": "markdown",
   "id": "c19c059d",
   "metadata": {},
   "source": [
    "## V. Naive Bayes:"
   ]
  },
  {
   "cell_type": "code",
   "execution_count": 14,
   "id": "ae6dbcce",
   "metadata": {},
   "outputs": [
    {
     "name": "stdout",
     "output_type": "stream",
     "text": [
      "[[3082  185]\n",
      " [4079  776]]\n",
      "0.47500615611918245\n"
     ]
    }
   ],
   "source": [
    "from sklearn.naive_bayes import GaussianNB\n",
    "nb = GaussianNB()\n",
    "nb.fit(x_train,y_train)\n",
    "\n",
    "#Predict using the model:\n",
    "\n",
    "y_predict_nb=nb.predict(x_test)\n",
    "\n",
    "#Confusion matrix:\n",
    "\n",
    "cnf_matrix = confusion_matrix(y_test, y_predict_nb)\n",
    "print(cnf_matrix)\n",
    "Accuracy_nb=nb.score(x_test,y_test)\n",
    "print(Accuracy_nb)"
   ]
  },
  {
   "cell_type": "code",
   "execution_count": 15,
   "id": "61eddf93",
   "metadata": {},
   "outputs": [
    {
     "name": "stdout",
     "output_type": "stream",
     "text": [
      "[0.5602078  0.55943383 0.55692337 0.54677217 0.56466077]\n",
      "Mean cross validation test score: 0.5575995848935047\n",
      "Mean cross validation train score: 0.5619656797892101\n",
      "Standard deviation in cv scores: 0.005961841793860642\n"
     ]
    }
   ],
   "source": [
    "cv_scores_test= cross_val_score(nb,x_test,y_test,cv=5,scoring='roc_auc')\n",
    "cv_scores_train= cross_val_score(nb,x_train,y_train,cv=5,scoring='roc_auc')\n",
    "print(cv_scores_test)\n",
    "cv_scores_nb_test= cv_scores_test.mean()\n",
    "cv_scores_nb_train= cv_scores_train.mean()\n",
    "cv_scores_std_nb= cv_scores_test.std()\n",
    "print ('Mean cross validation test score: ' +str(cv_scores_nb_test))\n",
    "print ('Mean cross validation train score: ' +str(cv_scores_nb_train))\n",
    "print ('Standard deviation in cv scores: ' +str(cv_scores_std_nb))"
   ]
  },
  {
   "cell_type": "markdown",
   "id": "e38afc58",
   "metadata": {},
   "source": [
    "## VI. Gradient Boost:"
   ]
  },
  {
   "cell_type": "code",
   "execution_count": 16,
   "id": "5135cc73",
   "metadata": {},
   "outputs": [
    {
     "name": "stdout",
     "output_type": "stream",
     "text": [
      "[[1330 1937]\n",
      " [ 805 4050]]\n",
      "0.6623984240334893\n"
     ]
    }
   ],
   "source": [
    "from sklearn.ensemble import ExtraTreesClassifier, GradientBoostingClassifier\n",
    "gbc = GradientBoostingClassifier(subsample=0.8, learning_rate=0.05 , n_estimators=160, random_state=5, max_depth=9, max_leaf_nodes=100)\n",
    "gbc.fit(x_train, y_train)\n",
    "\n",
    "#Predict using the model:\n",
    "\n",
    "y_predict_gbc = gbc.predict(x_test)\n",
    "\n",
    "#Confusion matrix:\n",
    "\n",
    "cnf_matrix = confusion_matrix(y_test, y_predict_gbc)\n",
    "print(cnf_matrix)\n",
    "Accuracy_gbc=gbc.score(x_test,y_test)\n",
    "print(Accuracy_gbc)"
   ]
  },
  {
   "cell_type": "code",
   "execution_count": 17,
   "id": "9b6c021c",
   "metadata": {},
   "outputs": [
    {
     "name": "stdout",
     "output_type": "stream",
     "text": [
      "[0.67944787 0.64670396 0.68877225 0.67486906 0.69973567]\n",
      "Mean cross validation test score: 0.6779057622270732\n",
      "Mean cross validation train score: 0.7137955362340981\n",
      "Standard deviation in cv scores: 0.017775139774479295\n"
     ]
    }
   ],
   "source": [
    "cv_scores_test= cross_val_score(gbc,x_test,y_test,cv=5,scoring='roc_auc')\n",
    "cv_scores_train= cross_val_score(gbc,x_train,y_train,cv=5,scoring='roc_auc')\n",
    "print(cv_scores_test)\n",
    "cv_scores_gbc_test= cv_scores_test.mean()\n",
    "cv_scores_gbc_train= cv_scores_train.mean()\n",
    "cv_scores_std_gbc= cv_scores_test.std()\n",
    "print ('Mean cross validation test score: ' +str(cv_scores_gbc_test))\n",
    "print ('Mean cross validation train score: ' +str(cv_scores_gbc_train))\n",
    "print ('Standard deviation in cv scores: ' +str(cv_scores_std_gbc))"
   ]
  },
  {
   "cell_type": "markdown",
   "id": "c8416b54",
   "metadata": {},
   "source": [
    "Taken from the mean cross validation score:\n",
    "\n",
    "- Logistic Regression: 0.6515\n",
    "- K-Nearest Neighbors: 0.6305\n",
    "- Random Forest: 0.6568\n",
    "- Naive Bayes: 0.5575\n",
    "- Gradient Boost: 0.6779\n",
    "\n",
    "## Model comparison:"
   ]
  },
  {
   "cell_type": "code",
   "execution_count": 18,
   "id": "9ada0fa4",
   "metadata": {},
   "outputs": [
    {
     "name": "stdout",
     "output_type": "stream",
     "text": [
      "             Algorithm  Model accuracy score\n",
      "0  Logistic Regression              0.662645\n",
      "1                  KNN              0.640606\n",
      "2        Random Forest              0.645408\n",
      "3          Naive Bayes              0.475006\n",
      "4       Gradient Boost              0.662398\n"
     ]
    },
    {
     "data": {
      "text/html": [
       "<div>\n",
       "<style scoped>\n",
       "    .dataframe tbody tr th:only-of-type {\n",
       "        vertical-align: middle;\n",
       "    }\n",
       "\n",
       "    .dataframe tbody tr th {\n",
       "        vertical-align: top;\n",
       "    }\n",
       "\n",
       "    .dataframe thead th {\n",
       "        text-align: right;\n",
       "    }\n",
       "</style>\n",
       "<table border=\"1\" class=\"dataframe\">\n",
       "  <thead>\n",
       "    <tr style=\"text-align: right;\">\n",
       "      <th></th>\n",
       "      <th>Algorithm</th>\n",
       "      <th>ROC-AUC train score</th>\n",
       "      <th>ROC-AUC test score</th>\n",
       "    </tr>\n",
       "  </thead>\n",
       "  <tbody>\n",
       "    <tr>\n",
       "      <th>0</th>\n",
       "      <td>Logistic Regression</td>\n",
       "      <td>0.692405</td>\n",
       "      <td>0.651541</td>\n",
       "    </tr>\n",
       "    <tr>\n",
       "      <th>1</th>\n",
       "      <td>KNN</td>\n",
       "      <td>0.655928</td>\n",
       "      <td>0.630540</td>\n",
       "    </tr>\n",
       "    <tr>\n",
       "      <th>2</th>\n",
       "      <td>Random Forest</td>\n",
       "      <td>0.680455</td>\n",
       "      <td>0.656004</td>\n",
       "    </tr>\n",
       "    <tr>\n",
       "      <th>3</th>\n",
       "      <td>Naive Bayes</td>\n",
       "      <td>0.561966</td>\n",
       "      <td>0.557600</td>\n",
       "    </tr>\n",
       "    <tr>\n",
       "      <th>4</th>\n",
       "      <td>Gradient Boost</td>\n",
       "      <td>0.713796</td>\n",
       "      <td>0.677906</td>\n",
       "    </tr>\n",
       "  </tbody>\n",
       "</table>\n",
       "</div>"
      ],
      "text/plain": [
       "             Algorithm  ROC-AUC train score  ROC-AUC test score\n",
       "0  Logistic Regression             0.692405            0.651541\n",
       "1                  KNN             0.655928            0.630540\n",
       "2        Random Forest             0.680455            0.656004\n",
       "3          Naive Bayes             0.561966            0.557600\n",
       "4       Gradient Boost             0.713796            0.677906"
      ]
     },
     "execution_count": 18,
     "metadata": {},
     "output_type": "execute_result"
    }
   ],
   "source": [
    "myLabels = [ 'Logistic Regression','KNN','Random Forest', 'Naive Bayes', 'Gradient Boost']\n",
    "score_test= [  cv_scores_lr_test,cv_scores_knn_test,cv_scores_rf_test,cv_scores_nb_test, cv_scores_gbc_test]\n",
    "score_train= [  cv_scores_lr_train,cv_scores_knn_train,cv_scores_rf_train,cv_scores_nb_train, cv_scores_gbc_train]\n",
    "Accuracy_score = [Accuracy_lr,Accuracy_knn,Accuracy_rf,Accuracy_nb, Accuracy_gbc]\n",
    "\n",
    "score_tab_acc = pd.DataFrame(list(zip(myLabels, Accuracy_score)), \n",
    "               columns =['Algorithm', 'Model accuracy score']) \n",
    "\n",
    "score_tab = pd.DataFrame(list(zip(myLabels, score_train, score_test)), \n",
    "               columns =['Algorithm', 'ROC-AUC train score', 'ROC-AUC test score' ]) \n",
    "print(score_tab_acc)\n",
    "\n",
    "score_tab"
   ]
  },
  {
   "cell_type": "code",
   "execution_count": 19,
   "id": "ddb1a8ea",
   "metadata": {},
   "outputs": [
    {
     "data": {
      "image/png": "[encoded data removed]",
      "text/plain": [
       "<Figure size 720x360 with 1 Axes>"
      ]
     },
     "metadata": {
      "needs_background": "light"
     },
     "output_type": "display_data"
    },
    {
     "data": {
      "image/png": "[encoded data removed]",
      "text/plain": [
       "<Figure size 720x360 with 1 Axes>"
      ]
     },
     "metadata": {
      "needs_background": "light"
     },
     "output_type": "display_data"
    }
   ],
   "source": [
    "#plotting the accuracy scores:\n",
    "\n",
    "\n",
    "index=[1,2,3,4,5]\n",
    "index_acc=[1,2,3,4,5]\n",
    "plt.figure(figsize=(10,5))\n",
    "plt.xlabel('Models',fontsize=15)\n",
    "plt.ylabel ('Model accuracy scores',fontsize=15)\n",
    "plt.title('Comparison of the algorithms',fontsize=15)\n",
    "#patterns = [ \"/\"]\n",
    "_=plt.bar(index_acc,Accuracy_score,color='coral',alpha=0.8,label='Accuracy score',edgecolor='k',width=0.3)\n",
    "plt.xticks([1, 2,3,4, 5], myLabels)\n",
    "#plt.legend()\n",
    "plt.savefig(\"26.png\")\n",
    "plt.show()\n",
    "\n",
    "#plotting and comparing ROC-AUC train/test scores:\n",
    "\n",
    "index=[1,2,3,4,5]\n",
    "index_acc=[1.2,2.2,3.2,4.2, 5.2]\n",
    "plt.figure(figsize=(10,5))\n",
    "plt.xlabel('Models',fontsize=15)\n",
    "plt.ylabel ('ROC-AUC scores',fontsize=15)\n",
    "plt.title('Comparison of the algorithms',fontsize=15)\n",
    "_=plt.bar(index,score_train,color='b',alpha=0.6,label='Training score',edgecolor='k',width=0.2)\n",
    "_=plt.bar(index_acc,score_test,color='cyan',alpha=0.8,label='Test score',edgecolor='k',width=0.2)\n",
    "plt.xticks([1, 2,3,4,5], myLabels)\n",
    "plt.legend()\n",
    "plt.savefig(\"27.png\")\n",
    "plt.show()"
   ]
  },
  {
   "cell_type": "markdown",
   "id": "e2bd499d",
   "metadata": {},
   "source": [
    "Our two best performing models are Random Forest and Gradient Boost (Gradient Boost being the better of the two). So lets work on fine tuning them:\n",
    "\n",
    "## Hyperparameter Tuning using Grid search CV:\n",
    "\n",
    "### Random Forest:"
   ]
  },
  {
   "cell_type": "code",
   "execution_count": 20,
   "id": "5def99f3",
   "metadata": {},
   "outputs": [
    {
     "name": "stdout",
     "output_type": "stream",
     "text": [
      "RandomForestClassifier(criterion='entropy', min_samples_split=12, n_jobs=-1,\n",
      "                       random_state=1)\n",
      "0.6740725531652595\n"
     ]
    }
   ],
   "source": [
    "from sklearn.model_selection import GridSearchCV\n",
    "\n",
    "rf = RandomForestClassifier(max_features='auto',random_state=1, n_jobs=-1)\n",
    "\n",
    "param_grid = { \"criterion\" : [\"gini\", \"entropy\"], \"min_samples_leaf\" : [1, 5, 10], \"min_samples_split\" : [2, 4, 10,12,16], \"n_estimators\": [50, 100,400,700,1000]}\n",
    "\n",
    "gs = GridSearchCV(estimator=rf, param_grid=param_grid, scoring='accuracy', cv=3, n_jobs=-1)\n",
    "\n",
    "gs = gs.fit(x_train, y_train)\n",
    "\n",
    "print(gs.best_estimator_) \n",
    "print(gs.best_score_)"
   ]
  },
  {
   "cell_type": "code",
   "execution_count": 21,
   "id": "b9ec6670",
   "metadata": {},
   "outputs": [
    {
     "name": "stdout",
     "output_type": "stream",
     "text": [
      "0.6678158089140606\n",
      "0.6859372744103738\n"
     ]
    }
   ],
   "source": [
    "\n",
    "rf = RandomForestClassifier(min_samples_split=16, n_estimators=1000, n_jobs=-1,\n",
    "                       random_state=1)\n",
    "rf.fit(x_train, y_train)\n",
    "y_predictions_rf = rf.predict(x_test)\n",
    "acc = accuracy_score(y_test, y_predictions_rf)\n",
    "cv = cross_val_score(rf, x_test, y_test,scoring='roc_auc').mean()\n",
    "print(acc)\n",
    "print(cv)"
   ]
  },
  {
   "cell_type": "code",
   "execution_count": 22,
   "id": "df426227",
   "metadata": {},
   "outputs": [
    {
     "data": {
      "image/png": "[encoded data removed]",
      "text/plain": [
       "<Figure size 720x360 with 1 Axes>"
      ]
     },
     "metadata": {
      "needs_background": "light"
     },
     "output_type": "display_data"
    }
   ],
   "source": [
    "plt.subplots(figsize=(10, 5))\n",
    "imps = rf.feature_importances_\n",
    "rf_feat_imps = pd.Series(imps, index=x_train.columns).sort_values(ascending=False)\n",
    "rf_feat_imps[:20].plot(kind='bar')\n",
    "plt.xlabel('features')\n",
    "plt.ylabel('importance')\n",
    "plt.title('Best random forest regressor feature importances');"
   ]
  },
  {
   "cell_type": "code",
   "execution_count": 23,
   "id": "56ccc43e",
   "metadata": {},
   "outputs": [
    {
     "name": "stdout",
     "output_type": "stream",
     "text": [
      "ROC-AUC Score: 0.7059833424593278\n"
     ]
    }
   ],
   "source": [
    "\n",
    "from sklearn.metrics import auc, roc_curve, roc_auc_score\n",
    "y_scores_rf = rf.predict_proba(x_test)\n",
    "y_scores_rf = y_scores_rf[:,1]\n",
    "auroc = roc_auc_score(y_test, y_scores_rf)\n",
    "print(\"ROC-AUC Score:\", auroc)"
   ]
  },
  {
   "cell_type": "code",
   "execution_count": 24,
   "id": "d7c57dc7",
   "metadata": {},
   "outputs": [
    {
     "data": {
      "image/png": "[encoded data removed]",
      "text/plain": [
       "<Figure size 720x360 with 1 Axes>"
      ]
     },
     "metadata": {
      "needs_background": "light"
     },
     "output_type": "display_data"
    }
   ],
   "source": [
    "false_positive_rate, true_positive_rate, thresholds = roc_curve(y_test, y_scores_rf)\n",
    "def plot_roc_curve(false_positive_rate, true_positive_rate, label=None):\n",
    "    plt.plot(false_positive_rate, true_positive_rate, linewidth=2, label=label)\n",
    "    plt.plot([0, 1], [0, 1], 'r', linewidth=4)\n",
    "    plt.axis([0, 1, 0, 1])\n",
    "    plt.xlabel('False Positive Rate (FPR)', fontsize=15)\n",
    "    plt.ylabel('True Positive Rate (TPR)', fontsize=15)\n",
    "    plt.title('ROC curve (RF)',fontsize=15)\n",
    "\n",
    "plt.figure(figsize=(10, 5))\n",
    "plot_roc_curve(false_positive_rate, true_positive_rate)\n",
    "plt.savefig(\"30.png\")\n",
    "plt.show()"
   ]
  },
  {
   "cell_type": "markdown",
   "id": "ce46754b",
   "metadata": {},
   "source": [
    "### Gradient boost"
   ]
  },
  {
   "cell_type": "code",
   "execution_count": 25,
   "id": "31ab9562",
   "metadata": {},
   "outputs": [
    {
     "name": "stdout",
     "output_type": "stream",
     "text": [
      "Fitting 3 folds for each of 72 candidates, totalling 216 fits\n",
      "GradientBoostingClassifier(max_depth=8, max_features=0.3, min_samples_leaf=100,\n",
      "                           n_estimators=200)\n",
      "0.6673172729149931\n"
     ]
    }
   ],
   "source": [
    "GB = GradientBoostingClassifier()\n",
    "gb_param = {\n",
    "        'loss' : [\"deviance\"],\n",
    "        'n_estimators' : [100,200,300],\n",
    "        'learning_rate': [0.1, 0.05, 0.01],\n",
    "        'max_depth': [4, 8],\n",
    "        'min_samples_leaf': [100,150],\n",
    "        'max_features': [0.3, 0.1] \n",
    "        }\n",
    "\n",
    "gsGB = GridSearchCV(GB, param_grid = gb_param, cv=3, scoring=\"accuracy\", n_jobs= -1, verbose = 1)\n",
    "gsGB.fit(x_train,y_train)\n",
    "print(gsGB.best_estimator_)\n",
    "print(gsGB.best_score_)"
   ]
  },
  {
   "cell_type": "code",
   "execution_count": 26,
   "id": "f0cba74f",
   "metadata": {},
   "outputs": [
    {
     "name": "stdout",
     "output_type": "stream",
     "text": [
      "0.6623984240334893\n",
      "0.6717180798861472\n"
     ]
    }
   ],
   "source": [
    "\n",
    "GB= GradientBoostingClassifier(max_depth=8, max_features=0.3, min_samples_leaf=100,\n",
    "                           n_estimators=200)\n",
    "GB.fit(x_train, y_train)\n",
    "y_predictions_GB = GB.predict(x_test)\n",
    "acc_GB = accuracy_score(y_test, y_predictions_GB)\n",
    "cv_GB = cross_val_score(GB, x_test, y_test,scoring='roc_auc').mean()\n",
    "print(acc_GB)\n",
    "print(cv_GB)"
   ]
  },
  {
   "cell_type": "code",
   "execution_count": 27,
   "id": "2e908164",
   "metadata": {},
   "outputs": [
    {
     "data": {
      "image/png": "[encoded data removed]",
      "text/plain": [
       "<Figure size 720x360 with 1 Axes>"
      ]
     },
     "metadata": {
      "needs_background": "light"
     },
     "output_type": "display_data"
    }
   ],
   "source": [
    "plt.subplots(figsize=(10, 5))\n",
    "imps = GB.feature_importances_\n",
    "gb_feat_imps = pd.Series(imps, index=x_train.columns).sort_values(ascending=False)\n",
    "gb_feat_imps[:20].plot(kind='bar')\n",
    "plt.xlabel('features')\n",
    "plt.ylabel('importance')\n",
    "plt.title('Best Gradient Boost Classifier feature importances');"
   ]
  },
  {
   "cell_type": "code",
   "execution_count": 28,
   "id": "cf34a70d",
   "metadata": {},
   "outputs": [
    {
     "name": "stdout",
     "output_type": "stream",
     "text": [
      "ROC-AUC Score: 0.695145475287784\n"
     ]
    }
   ],
   "source": [
    "y_scores_gb = GB.predict_proba(x_test)\n",
    "y_scores_gb = y_scores_gb[:,1]\n",
    "auroc = roc_auc_score(y_test, y_scores_gb)\n",
    "print(\"ROC-AUC Score:\", auroc)"
   ]
  },
  {
   "cell_type": "code",
   "execution_count": 29,
   "id": "e638132d",
   "metadata": {},
   "outputs": [
    {
     "data": {
      "image/png": "[encoded data removed]",
      "text/plain": [
       "<Figure size 720x360 with 1 Axes>"
      ]
     },
     "metadata": {
      "needs_background": "light"
     },
     "output_type": "display_data"
    }
   ],
   "source": [
    "false_positive_rate, true_positive_rate, thresholds = roc_curve(y_test, y_scores_gb)\n",
    "def plot_roc_curve(false_positive_rate, true_positive_rate, label=None):\n",
    "    plt.plot(false_positive_rate, true_positive_rate, linewidth=2, label=label)\n",
    "    plt.plot([0, 1], [0, 1], 'r', linewidth=4)\n",
    "    plt.axis([0, 1, 0, 1])\n",
    "    plt.xlabel('False Positive Rate (FPR)', fontsize=15)\n",
    "    plt.ylabel('True Positive Rate (TPR)', fontsize=15)\n",
    "    plt.title('ROC curve (GB)',fontsize=15)\n",
    "\n",
    "plt.figure(figsize=(10, 5))\n",
    "plot_roc_curve(false_positive_rate, true_positive_rate)\n",
    "plt.savefig(\"31.png\")\n",
    "plt.show()"
   ]
  },
  {
   "cell_type": "markdown",
   "id": "de79e103",
   "metadata": {},
   "source": [
    "# Conclusion:\n",
    "\n",
    "We looked at the following classification models:\n",
    "- Logistic Regression\n",
    "- K-Nearest Neighbor\n",
    "- Support Vector Machine (Removed from Steam Tags, because of run time)\n",
    "- Random Forest\n",
    "- Naive Bayes\n",
    "- Gradient Boost\n",
    "\n",
    "We worked with cross-validation on the training set to help avoid overfitting.\n",
    "\n",
    "### Steam Tags:\n",
    "\n",
    "In steam tags we saw that Gradient Boost and Random Forest performed the best, so we then performed a Grid Seach to fine tune the hyper parameters. When using the Steam Tags data set this does take quiet a bit of time to run, So here is a quick over view of the results:\n",
    "#### Random Forest:\n",
    "     - ROC-AUC Score = 0.7060\n",
    "     - Top Features:\n",
    "         achievements, \n",
    "         price, \n",
    "         median_playtime, \n",
    "         simulation, \n",
    "         indie, \n",
    "         adventure, \n",
    "         action, \n",
    "         casual, \n",
    "         strategy, \n",
    "         publisher_Other, \n",
    "         rpg, \n",
    "         massively_multiplayer, \n",
    "         early_access, \n",
    "         sports, \n",
    "         violent, \n",
    "         racing, \n",
    "         required_age, \n",
    "         developer_Other, \n",
    "         english, \n",
    "         free_to_play\n",
    "\n",
    "Some conclusions we can pull from this list of features:\n",
    "#### achievement:\n",
    "players enjoy a sense of accomplishment as they progress through a game, adding mile stones or easter egg achievements to reward the player is good.\n",
    "#### price: \n",
    "check for competitive pricing of the type of game we are creating, in EDA we saw that most games are less than \\\\$20, but with games between 16-50 hours of playtime (recommended) we saw we could charge up to \\\\$40. \n",
    "However also note our last feature is free_to_play, this could suggest that a lower price is better, and if we have an alternate form of profit, ftp is a valid choice.\n",
    "#### median_playtime: \n",
    "we also saw this appear in EDA, I would recommend making that target play times between 16-50 hours.\n",
    "#### genre:\n",
    "simulation, indie, adventure, action, strategy, rpg, sports, racing. These all showed up in our EDA search picking a genre in this categories will be solid choices.\n",
    "#### publisher and developer: Other\n",
    "This was interesting to see. I would hypothesize that this is because bigger name companies have a higher expectation of achievement, and so it's easier to make a popular game with a smaller company. So if the client is a newer game maker, tryng to work with a smaller company is the way to go.\n",
    "#### Features:\n",
    "- massively multiplayer: players want to play agianst/with other players\n",
    "- early_access: this can help with advertising, getting Twitch streamers to play the game in early access so people can see what game play is like.\n",
    "- violent: This could be graphics for combat sequences or the amount of combat in the game.\n",
    "- required_age: while some games that are rated E are popular, we saw more Mature and Teen content selling better.\n",
    "- english: having an english dubbed version if the game isn't already in english can help sales.\n",
    "\n",
    "#### Gradient Boost:\n",
    " - ROC-AUC Score: 0.6951\n",
    " - Top Features (different from Random Forest): visual novel, puzzle, anime. These were just 3 more genres we could consider\n",
    " \n",
    " Based on the ROC-AUC score I would recommend the Random Forest method"
   ]
  },
  {
   "cell_type": "markdown",
   "id": "3fb650c8",
   "metadata": {},
   "source": [
    "# Future Action:\n",
    "\n",
    "- We may want to narrow the focus to just modern games to see how players have changed.\n",
    "- Possibly using fewer features as we may be overfitting, however we did attempt to remove redundant information in our preprocessing notebook.\n",
    "- We can edit the notebooks for different parameters we'd wish to change, such as determining popularity on sales instead of rating, or looking at a different set of data.\n",
    "- In preprocessing we made 2 other data sets we could run through this notebook to see if they produce different outcomes, they are smaller sets and could possibly help with runtime."
   ]
  },
  {
   "cell_type": "code",
   "execution_count": null,
   "id": "b7c3d2ca",
   "metadata": {},
   "outputs": [],
   "source": []
  }
 ],
 "metadata": {
  "kernelspec": {
   "display_name": "Python 3",
   "language": "python",
   "name": "python3"
  },
  "language_info": {
   "codemirror_mode": {
    "name": "ipython",
    "version": 3
   },
   "file_extension": ".py",
   "mimetype": "text/x-python",
   "name": "python",
   "nbconvert_exporter": "python",
   "pygments_lexer": "ipython3",
   "version": "3.8.8"
  }
 },
 "nbformat": 4,
 "nbformat_minor": 5
}
