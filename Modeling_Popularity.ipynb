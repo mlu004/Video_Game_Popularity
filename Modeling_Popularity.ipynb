{
 "cells": [
  {
   "cell_type": "markdown",
   "id": "2f1ab30a",
   "metadata": {},
   "source": [
    "# Modeling Video Game Popularity\n",
    "\n",
    "In the previous notebook we looked at several data sets, to determine threshold values and ways to determine popularity. After noting which datasets lacked sufficient information and what datasets we could combine, we have settled on 3 sets to model with. The main one we will be looking at is the 2019 Steam Tag data, the other two will be for personal curiosity to see if we get significantly different results. These two additional sets will be the 2019 Video Game Sales data and the Merged data set of the two previously mentioned.\n",
    "\n",
    "#### Things to note that have been done:\n",
    "\n",
    "- Dropped columns that were not independent variables (Ie. an individual does not have control over these when designing the game) other than the variable we chose to determine popularity (Rating).\n",
    "- Created dummy variables of categorical values\n",
    "- Train_test_split:\n",
    " - We chose our dependent variable to be categorical of Popularity, which is determined by if a game achieved more than 70% rating\n",
    " \n",
    "#### What we will be doing in this notebook: \n",
    "\n",
    "Selecting a model that works best to predict the popularity of a game, and thus informing us as to what features are most important to have in our games. We will be looking at Logistic Regression, K-Nearest Neighbors, Support vector Machines, and Random Forests."
   ]
  },
  {
   "cell_type": "code",
   "execution_count": 1,
   "id": "6389fe43",
   "metadata": {},
   "outputs": [],
   "source": [
    "import pandas as pd\n",
    "import seaborn as sns\n",
    "import numpy as np\n",
    "import matplotlib.pyplot as plt\n",
    "import math\n",
    "\n",
    "from sklearn.linear_model import LogisticRegression\n",
    "from sklearn.model_selection import GridSearchCV\n",
    "from sklearn.metrics import accuracy_score\n",
    "from sklearn.model_selection import validation_curve\n",
    "\n",
    "import warnings\n",
    "warnings.filterwarnings('ignore')"
   ]
  },
  {
   "cell_type": "markdown",
   "id": "a8df64ae",
   "metadata": {},
   "source": [
    "## Loading Training data: steam tags"
   ]
  },
  {
   "cell_type": "code",
   "execution_count": 2,
   "id": "016609b3",
   "metadata": {},
   "outputs": [],
   "source": [
    "x_train = pd.read_csv(\"C:/Users/book_/OneDrive/Documents/GitHub/Capstone2-Video-Game-Popularity/preprocessed_data/x_steam_train.csv\", index_col=0)\n",
    "y_train = pd.read_csv(\"C:/Users/book_/OneDrive/Documents/GitHub/Capstone2-Video-Game-Popularity/preprocessed_data/y_steam_train.csv\", index_col=0)\n",
    "\n",
    "x_test = pd.read_csv(\"C:/Users/book_/OneDrive/Documents/GitHub/Capstone2-Video-Game-Popularity/preprocessed_data/x_steam_test.csv\", index_col=0)\n",
    "y_test = pd.read_csv(\"C:/Users/book_/OneDrive/Documents/GitHub/Capstone2-Video-Game-Popularity/preprocessed_data/y_steam_test.csv\", index_col=0)\n"
   ]
  },
  {
   "cell_type": "code",
   "execution_count": 54,
   "id": "e86a1aca",
   "metadata": {},
   "outputs": [
    {
     "data": {
      "text/html": [
       "<div>\n",
       "<style scoped>\n",
       "    .dataframe tbody tr th:only-of-type {\n",
       "        vertical-align: middle;\n",
       "    }\n",
       "\n",
       "    .dataframe tbody tr th {\n",
       "        vertical-align: top;\n",
       "    }\n",
       "\n",
       "    .dataframe thead th {\n",
       "        text-align: right;\n",
       "    }\n",
       "</style>\n",
       "<table border=\"1\" class=\"dataframe\">\n",
       "  <thead>\n",
       "    <tr style=\"text-align: right;\">\n",
       "      <th></th>\n",
       "      <th>0</th>\n",
       "      <th>1</th>\n",
       "      <th>2</th>\n",
       "      <th>3</th>\n",
       "      <th>4</th>\n",
       "      <th>5</th>\n",
       "      <th>6</th>\n",
       "      <th>7</th>\n",
       "      <th>8</th>\n",
       "      <th>9</th>\n",
       "      <th>...</th>\n",
       "      <th>1466</th>\n",
       "      <th>1467</th>\n",
       "      <th>1468</th>\n",
       "      <th>1469</th>\n",
       "      <th>1470</th>\n",
       "      <th>1471</th>\n",
       "      <th>1472</th>\n",
       "      <th>1473</th>\n",
       "      <th>1474</th>\n",
       "      <th>1475</th>\n",
       "    </tr>\n",
       "  </thead>\n",
       "  <tbody>\n",
       "    <tr>\n",
       "      <th>0</th>\n",
       "      <td>0.138571</td>\n",
       "      <td>-0.147856</td>\n",
       "      <td>-0.076303</td>\n",
       "      <td>0.312259</td>\n",
       "      <td>0.274696</td>\n",
       "      <td>-0.014531</td>\n",
       "      <td>-0.007265</td>\n",
       "      <td>-0.010274</td>\n",
       "      <td>-0.063876</td>\n",
       "      <td>-0.030835</td>\n",
       "      <td>...</td>\n",
       "      <td>-0.021799</td>\n",
       "      <td>-0.025173</td>\n",
       "      <td>-0.026202</td>\n",
       "      <td>-0.019224</td>\n",
       "      <td>-0.021799</td>\n",
       "      <td>-0.022978</td>\n",
       "      <td>-0.021799</td>\n",
       "      <td>-0.017797</td>\n",
       "      <td>-0.020552</td>\n",
       "      <td>-0.025173</td>\n",
       "    </tr>\n",
       "    <tr>\n",
       "      <th>1</th>\n",
       "      <td>0.138571</td>\n",
       "      <td>-0.147856</td>\n",
       "      <td>0.197700</td>\n",
       "      <td>-0.058560</td>\n",
       "      <td>-0.566183</td>\n",
       "      <td>-0.014531</td>\n",
       "      <td>-0.007265</td>\n",
       "      <td>-0.010274</td>\n",
       "      <td>-0.063876</td>\n",
       "      <td>-0.030835</td>\n",
       "      <td>...</td>\n",
       "      <td>-0.021799</td>\n",
       "      <td>-0.025173</td>\n",
       "      <td>-0.026202</td>\n",
       "      <td>-0.019224</td>\n",
       "      <td>-0.021799</td>\n",
       "      <td>-0.022978</td>\n",
       "      <td>-0.021799</td>\n",
       "      <td>-0.017797</td>\n",
       "      <td>-0.020552</td>\n",
       "      <td>-0.025173</td>\n",
       "    </tr>\n",
       "    <tr>\n",
       "      <th>2</th>\n",
       "      <td>0.138571</td>\n",
       "      <td>-0.147856</td>\n",
       "      <td>-0.129335</td>\n",
       "      <td>0.045902</td>\n",
       "      <td>-0.666587</td>\n",
       "      <td>-0.014531</td>\n",
       "      <td>-0.007265</td>\n",
       "      <td>-0.010274</td>\n",
       "      <td>-0.063876</td>\n",
       "      <td>-0.030835</td>\n",
       "      <td>...</td>\n",
       "      <td>-0.021799</td>\n",
       "      <td>-0.025173</td>\n",
       "      <td>-0.026202</td>\n",
       "      <td>-0.019224</td>\n",
       "      <td>-0.021799</td>\n",
       "      <td>-0.022978</td>\n",
       "      <td>-0.021799</td>\n",
       "      <td>-0.017797</td>\n",
       "      <td>-0.020552</td>\n",
       "      <td>-0.025173</td>\n",
       "    </tr>\n",
       "    <tr>\n",
       "      <th>3</th>\n",
       "      <td>0.138571</td>\n",
       "      <td>-0.147856</td>\n",
       "      <td>-0.067464</td>\n",
       "      <td>-0.058560</td>\n",
       "      <td>-0.264973</td>\n",
       "      <td>-0.014531</td>\n",
       "      <td>-0.007265</td>\n",
       "      <td>-0.010274</td>\n",
       "      <td>-0.063876</td>\n",
       "      <td>-0.030835</td>\n",
       "      <td>...</td>\n",
       "      <td>-0.021799</td>\n",
       "      <td>-0.025173</td>\n",
       "      <td>-0.026202</td>\n",
       "      <td>-0.019224</td>\n",
       "      <td>-0.021799</td>\n",
       "      <td>-0.022978</td>\n",
       "      <td>-0.021799</td>\n",
       "      <td>-0.017797</td>\n",
       "      <td>-0.020552</td>\n",
       "      <td>-0.025173</td>\n",
       "    </tr>\n",
       "    <tr>\n",
       "      <th>4</th>\n",
       "      <td>0.138571</td>\n",
       "      <td>-0.147856</td>\n",
       "      <td>-0.129335</td>\n",
       "      <td>-0.058560</td>\n",
       "      <td>-0.264973</td>\n",
       "      <td>-0.014531</td>\n",
       "      <td>-0.007265</td>\n",
       "      <td>-0.010274</td>\n",
       "      <td>-0.063876</td>\n",
       "      <td>-0.030835</td>\n",
       "      <td>...</td>\n",
       "      <td>-0.021799</td>\n",
       "      <td>-0.025173</td>\n",
       "      <td>-0.026202</td>\n",
       "      <td>-0.019224</td>\n",
       "      <td>-0.021799</td>\n",
       "      <td>-0.022978</td>\n",
       "      <td>-0.021799</td>\n",
       "      <td>-0.017797</td>\n",
       "      <td>-0.020552</td>\n",
       "      <td>-0.025173</td>\n",
       "    </tr>\n",
       "    <tr>\n",
       "      <th>...</th>\n",
       "      <td>...</td>\n",
       "      <td>...</td>\n",
       "      <td>...</td>\n",
       "      <td>...</td>\n",
       "      <td>...</td>\n",
       "      <td>...</td>\n",
       "      <td>...</td>\n",
       "      <td>...</td>\n",
       "      <td>...</td>\n",
       "      <td>...</td>\n",
       "      <td>...</td>\n",
       "      <td>...</td>\n",
       "      <td>...</td>\n",
       "      <td>...</td>\n",
       "      <td>...</td>\n",
       "      <td>...</td>\n",
       "      <td>...</td>\n",
       "      <td>...</td>\n",
       "      <td>...</td>\n",
       "      <td>...</td>\n",
       "      <td>...</td>\n",
       "    </tr>\n",
       "    <tr>\n",
       "      <th>18944</th>\n",
       "      <td>0.138571</td>\n",
       "      <td>-0.147856</td>\n",
       "      <td>-0.129335</td>\n",
       "      <td>-0.058560</td>\n",
       "      <td>2.119610</td>\n",
       "      <td>-0.014531</td>\n",
       "      <td>-0.007265</td>\n",
       "      <td>-0.010274</td>\n",
       "      <td>-0.063876</td>\n",
       "      <td>-0.030835</td>\n",
       "      <td>...</td>\n",
       "      <td>-0.021799</td>\n",
       "      <td>-0.025173</td>\n",
       "      <td>-0.026202</td>\n",
       "      <td>-0.019224</td>\n",
       "      <td>-0.021799</td>\n",
       "      <td>-0.022978</td>\n",
       "      <td>-0.021799</td>\n",
       "      <td>-0.017797</td>\n",
       "      <td>-0.020552</td>\n",
       "      <td>-0.025173</td>\n",
       "    </tr>\n",
       "    <tr>\n",
       "      <th>18945</th>\n",
       "      <td>0.138571</td>\n",
       "      <td>-0.147856</td>\n",
       "      <td>-0.129335</td>\n",
       "      <td>-0.058560</td>\n",
       "      <td>0.663759</td>\n",
       "      <td>-0.014531</td>\n",
       "      <td>-0.007265</td>\n",
       "      <td>-0.010274</td>\n",
       "      <td>-0.063876</td>\n",
       "      <td>-0.030835</td>\n",
       "      <td>...</td>\n",
       "      <td>-0.021799</td>\n",
       "      <td>-0.025173</td>\n",
       "      <td>-0.026202</td>\n",
       "      <td>-0.019224</td>\n",
       "      <td>-0.021799</td>\n",
       "      <td>-0.022978</td>\n",
       "      <td>-0.021799</td>\n",
       "      <td>-0.017797</td>\n",
       "      <td>-0.020552</td>\n",
       "      <td>-0.025173</td>\n",
       "    </tr>\n",
       "    <tr>\n",
       "      <th>18946</th>\n",
       "      <td>0.138571</td>\n",
       "      <td>-0.147856</td>\n",
       "      <td>-0.129335</td>\n",
       "      <td>-0.058560</td>\n",
       "      <td>1.680345</td>\n",
       "      <td>-0.014531</td>\n",
       "      <td>-0.007265</td>\n",
       "      <td>-0.010274</td>\n",
       "      <td>-0.063876</td>\n",
       "      <td>-0.030835</td>\n",
       "      <td>...</td>\n",
       "      <td>-0.021799</td>\n",
       "      <td>-0.025173</td>\n",
       "      <td>-0.026202</td>\n",
       "      <td>-0.019224</td>\n",
       "      <td>-0.021799</td>\n",
       "      <td>-0.022978</td>\n",
       "      <td>-0.021799</td>\n",
       "      <td>-0.017797</td>\n",
       "      <td>-0.020552</td>\n",
       "      <td>-0.025173</td>\n",
       "    </tr>\n",
       "    <tr>\n",
       "      <th>18947</th>\n",
       "      <td>0.138571</td>\n",
       "      <td>-0.147856</td>\n",
       "      <td>0.020924</td>\n",
       "      <td>-0.058560</td>\n",
       "      <td>1.115575</td>\n",
       "      <td>-0.014531</td>\n",
       "      <td>-0.007265</td>\n",
       "      <td>-0.010274</td>\n",
       "      <td>-0.063876</td>\n",
       "      <td>-0.030835</td>\n",
       "      <td>...</td>\n",
       "      <td>-0.021799</td>\n",
       "      <td>-0.025173</td>\n",
       "      <td>-0.026202</td>\n",
       "      <td>-0.019224</td>\n",
       "      <td>-0.021799</td>\n",
       "      <td>-0.022978</td>\n",
       "      <td>-0.021799</td>\n",
       "      <td>-0.017797</td>\n",
       "      <td>-0.020552</td>\n",
       "      <td>-0.025173</td>\n",
       "    </tr>\n",
       "    <tr>\n",
       "      <th>18948</th>\n",
       "      <td>0.138571</td>\n",
       "      <td>-0.147856</td>\n",
       "      <td>-0.129335</td>\n",
       "      <td>-0.058560</td>\n",
       "      <td>-0.264973</td>\n",
       "      <td>-0.014531</td>\n",
       "      <td>-0.007265</td>\n",
       "      <td>-0.010274</td>\n",
       "      <td>-0.063876</td>\n",
       "      <td>-0.030835</td>\n",
       "      <td>...</td>\n",
       "      <td>-0.021799</td>\n",
       "      <td>-0.025173</td>\n",
       "      <td>-0.026202</td>\n",
       "      <td>-0.019224</td>\n",
       "      <td>-0.021799</td>\n",
       "      <td>-0.022978</td>\n",
       "      <td>-0.021799</td>\n",
       "      <td>-0.017797</td>\n",
       "      <td>-0.020552</td>\n",
       "      <td>-0.025173</td>\n",
       "    </tr>\n",
       "  </tbody>\n",
       "</table>\n",
       "<p>18949 rows × 1476 columns</p>\n",
       "</div>"
      ],
      "text/plain": [
       "              0         1         2         3         4         5         6  \\\n",
       "0      0.138571 -0.147856 -0.076303  0.312259  0.274696 -0.014531 -0.007265   \n",
       "1      0.138571 -0.147856  0.197700 -0.058560 -0.566183 -0.014531 -0.007265   \n",
       "2      0.138571 -0.147856 -0.129335  0.045902 -0.666587 -0.014531 -0.007265   \n",
       "3      0.138571 -0.147856 -0.067464 -0.058560 -0.264973 -0.014531 -0.007265   \n",
       "4      0.138571 -0.147856 -0.129335 -0.058560 -0.264973 -0.014531 -0.007265   \n",
       "...         ...       ...       ...       ...       ...       ...       ...   \n",
       "18944  0.138571 -0.147856 -0.129335 -0.058560  2.119610 -0.014531 -0.007265   \n",
       "18945  0.138571 -0.147856 -0.129335 -0.058560  0.663759 -0.014531 -0.007265   \n",
       "18946  0.138571 -0.147856 -0.129335 -0.058560  1.680345 -0.014531 -0.007265   \n",
       "18947  0.138571 -0.147856  0.020924 -0.058560  1.115575 -0.014531 -0.007265   \n",
       "18948  0.138571 -0.147856 -0.129335 -0.058560 -0.264973 -0.014531 -0.007265   \n",
       "\n",
       "              7         8         9  ...      1466      1467      1468  \\\n",
       "0     -0.010274 -0.063876 -0.030835  ... -0.021799 -0.025173 -0.026202   \n",
       "1     -0.010274 -0.063876 -0.030835  ... -0.021799 -0.025173 -0.026202   \n",
       "2     -0.010274 -0.063876 -0.030835  ... -0.021799 -0.025173 -0.026202   \n",
       "3     -0.010274 -0.063876 -0.030835  ... -0.021799 -0.025173 -0.026202   \n",
       "4     -0.010274 -0.063876 -0.030835  ... -0.021799 -0.025173 -0.026202   \n",
       "...         ...       ...       ...  ...       ...       ...       ...   \n",
       "18944 -0.010274 -0.063876 -0.030835  ... -0.021799 -0.025173 -0.026202   \n",
       "18945 -0.010274 -0.063876 -0.030835  ... -0.021799 -0.025173 -0.026202   \n",
       "18946 -0.010274 -0.063876 -0.030835  ... -0.021799 -0.025173 -0.026202   \n",
       "18947 -0.010274 -0.063876 -0.030835  ... -0.021799 -0.025173 -0.026202   \n",
       "18948 -0.010274 -0.063876 -0.030835  ... -0.021799 -0.025173 -0.026202   \n",
       "\n",
       "           1469      1470      1471      1472      1473      1474      1475  \n",
       "0     -0.019224 -0.021799 -0.022978 -0.021799 -0.017797 -0.020552 -0.025173  \n",
       "1     -0.019224 -0.021799 -0.022978 -0.021799 -0.017797 -0.020552 -0.025173  \n",
       "2     -0.019224 -0.021799 -0.022978 -0.021799 -0.017797 -0.020552 -0.025173  \n",
       "3     -0.019224 -0.021799 -0.022978 -0.021799 -0.017797 -0.020552 -0.025173  \n",
       "4     -0.019224 -0.021799 -0.022978 -0.021799 -0.017797 -0.020552 -0.025173  \n",
       "...         ...       ...       ...       ...       ...       ...       ...  \n",
       "18944 -0.019224 -0.021799 -0.022978 -0.021799 -0.017797 -0.020552 -0.025173  \n",
       "18945 -0.019224 -0.021799 -0.022978 -0.021799 -0.017797 -0.020552 -0.025173  \n",
       "18946 -0.019224 -0.021799 -0.022978 -0.021799 -0.017797 -0.020552 -0.025173  \n",
       "18947 -0.019224 -0.021799 -0.022978 -0.021799 -0.017797 -0.020552 -0.025173  \n",
       "18948 -0.019224 -0.021799 -0.022978 -0.021799 -0.017797 -0.020552 -0.025173  \n",
       "\n",
       "[18949 rows x 1476 columns]"
      ]
     },
     "execution_count": 54,
     "metadata": {},
     "output_type": "execute_result"
    }
   ],
   "source": [
    "x_train"
   ]
  },
  {
   "cell_type": "code",
   "execution_count": 3,
   "id": "23c2f4d6",
   "metadata": {},
   "outputs": [
    {
     "name": "stdout",
     "output_type": "stream",
     "text": [
      "(18949, 1476)\n",
      "(18949, 1)\n"
     ]
    }
   ],
   "source": [
    "print(x_train.shape)\n",
    "print(y_train.shape)"
   ]
  },
  {
   "cell_type": "markdown",
   "id": "4c9df75e",
   "metadata": {},
   "source": [
    "### I. Logistic Regression"
   ]
  },
  {
   "cell_type": "code",
   "execution_count": 4,
   "id": "f3ae0554",
   "metadata": {},
   "outputs": [
    {
     "data": {
      "text/html": [
       "<div>\n",
       "<style scoped>\n",
       "    .dataframe tbody tr th:only-of-type {\n",
       "        vertical-align: middle;\n",
       "    }\n",
       "\n",
       "    .dataframe tbody tr th {\n",
       "        vertical-align: top;\n",
       "    }\n",
       "\n",
       "    .dataframe thead th {\n",
       "        text-align: right;\n",
       "    }\n",
       "</style>\n",
       "<table border=\"1\" class=\"dataframe\">\n",
       "  <thead>\n",
       "    <tr style=\"text-align: right;\">\n",
       "      <th></th>\n",
       "      <th>C_parameter</th>\n",
       "      <th>Accuracy</th>\n",
       "    </tr>\n",
       "  </thead>\n",
       "  <tbody>\n",
       "    <tr>\n",
       "      <th>0</th>\n",
       "      <td>0.001</td>\n",
       "      <td>0.666585</td>\n",
       "    </tr>\n",
       "    <tr>\n",
       "      <th>1</th>\n",
       "      <td>0.010</td>\n",
       "      <td>0.667446</td>\n",
       "    </tr>\n",
       "    <tr>\n",
       "      <th>2</th>\n",
       "      <td>0.100</td>\n",
       "      <td>0.666338</td>\n",
       "    </tr>\n",
       "    <tr>\n",
       "      <th>3</th>\n",
       "      <td>1.000</td>\n",
       "      <td>0.666215</td>\n",
       "    </tr>\n",
       "    <tr>\n",
       "      <th>4</th>\n",
       "      <td>10.000</td>\n",
       "      <td>0.666215</td>\n",
       "    </tr>\n",
       "    <tr>\n",
       "      <th>5</th>\n",
       "      <td>100.000</td>\n",
       "      <td>0.665969</td>\n",
       "    </tr>\n",
       "  </tbody>\n",
       "</table>\n",
       "</div>"
      ],
      "text/plain": [
       "   C_parameter  Accuracy\n",
       "0        0.001  0.666585\n",
       "1        0.010  0.667446\n",
       "2        0.100  0.666338\n",
       "3        1.000  0.666215\n",
       "4       10.000  0.666215\n",
       "5      100.000  0.665969"
      ]
     },
     "execution_count": 4,
     "metadata": {},
     "output_type": "execute_result"
    }
   ],
   "source": [
    "C_param_range = [0.001,0.01,0.1,1,10,100]\n",
    "\n",
    "table = pd.DataFrame(columns = ['C_parameter','Accuracy'])\n",
    "table['C_parameter'] = C_param_range\n",
    "\n",
    "\n",
    "j = 0\n",
    "for i in C_param_range:\n",
    "    \n",
    "    # Apply logistic regression model to training data\n",
    "    Logreg = LogisticRegression(penalty = 'l2', C = i,random_state = 40)\n",
    "    Logreg.fit(x_train,y_train)\n",
    "    \n",
    "    # Predict using model\n",
    "    y_pred_lr = Logreg.predict(x_test)\n",
    "    \n",
    "    # Saving accuracy score in table\n",
    "    table.iloc[j,1] = accuracy_score(y_test,y_pred_lr)\n",
    "    j += 1\n",
    "    \n",
    "table"
   ]
  },
  {
   "cell_type": "code",
   "execution_count": 5,
   "id": "4d6c53b3",
   "metadata": {},
   "outputs": [
    {
     "name": "stdout",
     "output_type": "stream",
     "text": [
      "[[1291 1974]\n",
      " [ 739 4118]]\n",
      "0.6659689731593204\n"
     ]
    }
   ],
   "source": [
    "from sklearn.metrics import confusion_matrix\n",
    "\n",
    "cnf_matrix= confusion_matrix(y_test,y_pred_lr)\n",
    "print(cnf_matrix)\n",
    "Accuracy_lr=Logreg.score(x_test,y_test)\n",
    "\n",
    "print(Accuracy_lr)"
   ]
  },
  {
   "cell_type": "markdown",
   "id": "0bbb5ac7",
   "metadata": {},
   "source": [
    "Looks like our accuracy for a linear regression is 0.67 no matter what our parameter is set to."
   ]
  },
  {
   "cell_type": "code",
   "execution_count": 6,
   "id": "9d02a432",
   "metadata": {},
   "outputs": [
    {
     "name": "stdout",
     "output_type": "stream",
     "text": [
      "[0.64096698 0.63661307 0.66638252 0.65459584 0.66361939]\n",
      "Mean cross validation test score: 0.6524355593139284\n",
      "Mean cross validation train score: 0.6894576642310113\n",
      "Standard deviation in cv test scores: 0.011883955624493046\n"
     ]
    }
   ],
   "source": [
    "from sklearn.model_selection import cross_val_score\n",
    "\n",
    "cv_scores_test= cross_val_score(Logreg,x_test,y_test,cv=5,scoring='roc_auc')\n",
    "cv_scores_train= cross_val_score(Logreg,x_train,y_train,cv=5,scoring='roc_auc')\n",
    "print(cv_scores_test)\n",
    "cv_scores_lr_test= cv_scores_test.mean()\n",
    "cv_scores_lr_train= cv_scores_train.mean()\n",
    "cv_scores_std_test_lr= cv_scores_test.std()\n",
    "print ('Mean cross validation test score: ' +str(cv_scores_lr_test))\n",
    "print ('Mean cross validation train score: ' +str(cv_scores_lr_train))\n",
    "print ('Standard deviation in cv test scores: ' +str(cv_scores_std_test_lr))"
   ]
  },
  {
   "cell_type": "markdown",
   "id": "8084e64a",
   "metadata": {},
   "source": [
    "## II. K-Nearest Neighbor (KNN):"
   ]
  },
  {
   "cell_type": "code",
   "execution_count": 17,
   "id": "26fbcc18",
   "metadata": {},
   "outputs": [
    {
     "name": "stdout",
     "output_type": "stream",
     "text": [
      "[[1546 1719]\n",
      " [1143 3714]]\n",
      "0.6476237379955676\n"
     ]
    },
    {
     "data": {
      "image/png": "[encoded data removed]",
      "text/plain": [
       "<Figure size 432x288 with 1 Axes>"
      ]
     },
     "metadata": {
      "needs_background": "light"
     },
     "output_type": "display_data"
    }
   ],
   "source": [
    "from sklearn.neighbors import KNeighborsClassifier\n",
    "from sklearn.metrics import plot_roc_curve\n",
    "\n",
    "# Apply KNN model to training data:\n",
    "\n",
    "knn = KNeighborsClassifier(p=2,weights='distance',n_neighbors=50)\n",
    "knn.fit(x_train,y_train)\n",
    "\n",
    "# Predict using model:\n",
    "\n",
    "y_predict_knn=knn.predict(x_test)\n",
    "\n",
    "#Confusion matrix:\n",
    "\n",
    "cnf_matrix = confusion_matrix(y_test, y_predict_knn)\n",
    "print(cnf_matrix)\n",
    "Accuracy_knn=knn.score(x_test,y_test)\n",
    "\n",
    "print(Accuracy_knn)\n",
    "knn_disp= plot_roc_curve(knn,x_test,y_test)"
   ]
  },
  {
   "cell_type": "code",
   "execution_count": 8,
   "id": "6420a594",
   "metadata": {},
   "outputs": [
    {
     "name": "stdout",
     "output_type": "stream",
     "text": [
      "[0.6206516  0.59312196 0.62883814 0.62840049 0.64009176]\n",
      "Mean cross validation test score: 0.6222207906356931\n",
      "Mean cross validation train score: 0.6548701478214691\n",
      "Standard deviation in cv scores: 0.015814889351761386\n"
     ]
    }
   ],
   "source": [
    "cv_scores_test= cross_val_score(knn,x_test,y_test,cv=5,scoring='roc_auc')\n",
    "cv_scores_train= cross_val_score(knn,x_train,y_train,cv=5,scoring='roc_auc')\n",
    "print(cv_scores_test)\n",
    "cv_scores_knn_test= cv_scores_test.mean()\n",
    "cv_scores_knn_train= cv_scores_train.mean()\n",
    "cv_scores_std_knn= cv_scores_test.std()\n",
    "print ('Mean cross validation test score: ' +str(cv_scores_knn_test))\n",
    "print ('Mean cross validation train score: ' +str(cv_scores_knn_train))\n",
    "print ('Standard deviation in cv scores: ' +str(cv_scores_std_knn))"
   ]
  },
  {
   "cell_type": "markdown",
   "id": "137c3daf",
   "metadata": {},
   "source": [
    "## III. Support Vector Machine (SVM):"
   ]
  },
  {
   "cell_type": "code",
   "execution_count": 9,
   "id": "9807585d",
   "metadata": {},
   "outputs": [],
   "source": [
    "from sklearn.svm import SVC\n",
    "\n",
    "# svm = SVC(kernel='linear')\n",
    "# svm.fit(x_train, y_train)\n",
    "\n",
    "# # Predict using model:\n",
    "\n",
    "# y_predict_svm=svm.predict(x_test)\n",
    "\n",
    "# #Confusion matrix:\n",
    "\n",
    "# cnf_matrix = confusion_matrix(y_test, y_predict_svm)\n",
    "# print(cnf_matrix)\n",
    "\n",
    "# Accuracy_svm=svm.score(x_test,y_test)\n",
    "# print(Accuracy_svm)"
   ]
  },
  {
   "cell_type": "code",
   "execution_count": 10,
   "id": "b2be74b6",
   "metadata": {},
   "outputs": [],
   "source": [
    "# cv_scores_test= cross_val_score(svm,x_test,y_test,cv=5,scoring='roc_auc')\n",
    "# cv_scores_train= cross_val_score(svm,x_train,y_train,cv=5,scoring='roc_auc')\n",
    "# print(cv_scores_test)\n",
    "# cv_scores_svm_test= cv_scores_test.mean()\n",
    "# cv_scores_svm_train= cv_scores_train.mean()\n",
    "# cv_scores_std_svm= cv_scores_test.std()\n",
    "# print ('Mean cross validation test score: ' +str(cv_scores_svm_test))\n",
    "# print ('Mean cross validation train score: ' +str(cv_scores_svm_train))\n",
    "# print ('Standard deviation in cv scores: ' +str(cv_scores_std_svm))"
   ]
  },
  {
   "cell_type": "markdown",
   "id": "0624e5be",
   "metadata": {},
   "source": [
    "The SMV cells took too long for my computer to run. Here is the Accuracy_smv results. The computer could not handle cross validation:\n",
    "\n",
    "[[ 962 2303]\n",
    "\n",
    " [ 435 4422]]\n",
    "\n",
    "0.6628909135680867"
   ]
  },
  {
   "cell_type": "markdown",
   "id": "1f1b0038",
   "metadata": {},
   "source": [
    "## IV. Random Forest:"
   ]
  },
  {
   "cell_type": "code",
   "execution_count": 11,
   "id": "85f43228",
   "metadata": {},
   "outputs": [
    {
     "name": "stdout",
     "output_type": "stream",
     "text": [
      "[[1635 1630]\n",
      " [1214 3643]]\n",
      "0.6498399409012559\n"
     ]
    }
   ],
   "source": [
    "from sklearn.ensemble import RandomForestClassifier\n",
    "\n",
    "#Apply RF to the training data:\n",
    "\n",
    "rf = RandomForestClassifier(bootstrap=True,n_estimators=100,criterion='entropy')\n",
    "rf.fit(x_train, y_train)\n",
    "\n",
    "#Predict using the model:\n",
    "\n",
    "y_predict_rf = rf.predict(x_test)\n",
    "\n",
    "#Confusion matrix:\n",
    "\n",
    "cnf_matrix = confusion_matrix(y_test, y_predict_rf)\n",
    "print(cnf_matrix)\n",
    "Accuracy_rf=rf.score(x_test,y_test)\n",
    "print(Accuracy_rf)"
   ]
  },
  {
   "cell_type": "code",
   "execution_count": 12,
   "id": "73a6c2b3",
   "metadata": {},
   "outputs": [
    {
     "name": "stdout",
     "output_type": "stream",
     "text": [
      "[0.65708837 0.63542986 0.6555429  0.67185911 0.66867961]\n",
      "Mean cross validation test score: 0.6577199696549736\n",
      "Mean cross validation train score: 0.6763067739103452\n",
      "Standard deviation in cv scores: 0.012821983874719467\n"
     ]
    }
   ],
   "source": [
    "cv_scores_test= cross_val_score(rf,x_test,y_test,cv=5,scoring='roc_auc')\n",
    "cv_scores_train= cross_val_score(rf,x_train,y_train,cv=5,scoring='roc_auc')\n",
    "print(cv_scores_test)\n",
    "cv_scores_rf_test= cv_scores_test.mean()\n",
    "cv_scores_rf_train= cv_scores_train.mean()\n",
    "cv_scores_std_rf= cv_scores_test.std()\n",
    "print ('Mean cross validation test score: ' +str(cv_scores_rf_test))\n",
    "print ('Mean cross validation train score: ' +str(cv_scores_rf_train))\n",
    "print ('Standard deviation in cv scores: ' +str(cv_scores_std_rf))"
   ]
  },
  {
   "cell_type": "markdown",
   "id": "d1695a22",
   "metadata": {},
   "source": [
    "## V. Naive Bayes:"
   ]
  },
  {
   "cell_type": "code",
   "execution_count": 13,
   "id": "bb8e1474",
   "metadata": {},
   "outputs": [
    {
     "name": "stdout",
     "output_type": "stream",
     "text": [
      "[[3071  194]\n",
      " [4073  784]]\n",
      "0.4746367889682344\n"
     ]
    }
   ],
   "source": [
    "from sklearn.naive_bayes import GaussianNB\n",
    "nb = GaussianNB()\n",
    "nb.fit(x_train,y_train)\n",
    "\n",
    "#Predict using the model:\n",
    "\n",
    "y_predict_nb=nb.predict(x_test)\n",
    "\n",
    "#Confusion matrix:\n",
    "\n",
    "cnf_matrix = confusion_matrix(y_test, y_predict_nb)\n",
    "print(cnf_matrix)\n",
    "Accuracy_nb=nb.score(x_test,y_test)\n",
    "print(Accuracy_nb)"
   ]
  },
  {
   "cell_type": "code",
   "execution_count": 18,
   "id": "8ccd84cb",
   "metadata": {},
   "outputs": [
    {
     "name": "stdout",
     "output_type": "stream",
     "text": [
      "[0.55213276 0.55103779 0.54970169 0.55035383 0.54818054]\n",
      "Mean cross validation test score: 0.5502813220861744\n",
      "Mean cross validation train score: 0.5623072057801483\n",
      "Standard deviation in cv scores: 0.0013232222382786043\n"
     ]
    }
   ],
   "source": [
    "cv_scores_test= cross_val_score(nb,x_test,y_test,cv=5,scoring='roc_auc')\n",
    "cv_scores_train= cross_val_score(nb,x_train,y_train,cv=5,scoring='roc_auc')\n",
    "print(cv_scores_test)\n",
    "cv_scores_nb_test= cv_scores_test.mean()\n",
    "cv_scores_nb_train= cv_scores_train.mean()\n",
    "cv_scores_std_nb= cv_scores_test.std()\n",
    "print ('Mean cross validation test score: ' +str(cv_scores_nb_test))\n",
    "print ('Mean cross validation train score: ' +str(cv_scores_nb_train))\n",
    "print ('Standard deviation in cv scores: ' +str(cv_scores_std_nb))"
   ]
  },
  {
   "cell_type": "markdown",
   "id": "a79fdeb9",
   "metadata": {},
   "source": [
    "## VI. Gradient Boost:"
   ]
  },
  {
   "cell_type": "code",
   "execution_count": 27,
   "id": "d395c448",
   "metadata": {},
   "outputs": [
    {
     "name": "stdout",
     "output_type": "stream",
     "text": [
      "[[1374 1891]\n",
      " [ 784 4073]]\n",
      "0.6706476237379956\n"
     ]
    }
   ],
   "source": [
    "from sklearn.ensemble import ExtraTreesClassifier, GradientBoostingClassifier\n",
    "gbc = GradientBoostingClassifier(subsample=0.8, learning_rate=0.05 , n_estimators=160, random_state=5, max_depth=9, max_leaf_nodes=100)\n",
    "gbc.fit(x_train, y_train)\n",
    "\n",
    "#Predict using the model:\n",
    "\n",
    "y_predict_gbc = gbc.predict(x_test)\n",
    "\n",
    "#Confusion matrix:\n",
    "\n",
    "cnf_matrix = confusion_matrix(y_test, y_predict_gbc)\n",
    "print(cnf_matrix)\n",
    "Accuracy_gbc=gbc.score(x_test,y_test)\n",
    "print(Accuracy_gbc)"
   ]
  },
  {
   "cell_type": "code",
   "execution_count": 28,
   "id": "df1a59c9",
   "metadata": {},
   "outputs": [
    {
     "name": "stdout",
     "output_type": "stream",
     "text": [
      "[0.7020187  0.66794598 0.68066186 0.69374415 0.69809151]\n",
      "Mean cross validation test score: 0.6884924409927227\n",
      "Mean cross validation train score: 0.7100009013149764\n",
      "Standard deviation in cv scores: 0.012539198265478597\n"
     ]
    }
   ],
   "source": [
    "cv_scores_test= cross_val_score(gbc,x_test,y_test,cv=5,scoring='roc_auc')\n",
    "cv_scores_train= cross_val_score(gbc,x_train,y_train,cv=5,scoring='roc_auc')\n",
    "print(cv_scores_test)\n",
    "cv_scores_gbc_test= cv_scores_test.mean()\n",
    "cv_scores_gbc_train= cv_scores_train.mean()\n",
    "cv_scores_std_gbc= cv_scores_test.std()\n",
    "print ('Mean cross validation test score: ' +str(cv_scores_gbc_test))\n",
    "print ('Mean cross validation train score: ' +str(cv_scores_gbc_train))\n",
    "print ('Standard deviation in cv scores: ' +str(cv_scores_std_gbc))"
   ]
  },
  {
   "cell_type": "markdown",
   "id": "4e9bd4b9",
   "metadata": {},
   "source": [
    "Taken from the mean cross validation score:\n",
    "\n",
    "- Logistic Regression: 0.6524\n",
    "- K-Nearest Neighbors: 0.6222\n",
    "- Random Forest: 0.6577\n",
    "- Naive Bayes: 0.5503\n",
    "- Gradient Boost: 0.6885\n",
    "\n",
    "## Model comparison:"
   ]
  },
  {
   "cell_type": "code",
   "execution_count": 34,
   "id": "1f8e91c4",
   "metadata": {},
   "outputs": [
    {
     "name": "stdout",
     "output_type": "stream",
     "text": [
      "             Algorithm  Model accuracy score\n",
      "0  Logistic Regression              0.665969\n",
      "1                  KNN              0.647624\n",
      "2        Random Forest              0.649840\n",
      "3          Naive Bayes              0.474637\n",
      "4       Gradient Boost              0.670648\n"
     ]
    },
    {
     "data": {
      "text/html": [
       "<div>\n",
       "<style scoped>\n",
       "    .dataframe tbody tr th:only-of-type {\n",
       "        vertical-align: middle;\n",
       "    }\n",
       "\n",
       "    .dataframe tbody tr th {\n",
       "        vertical-align: top;\n",
       "    }\n",
       "\n",
       "    .dataframe thead th {\n",
       "        text-align: right;\n",
       "    }\n",
       "</style>\n",
       "<table border=\"1\" class=\"dataframe\">\n",
       "  <thead>\n",
       "    <tr style=\"text-align: right;\">\n",
       "      <th></th>\n",
       "      <th>Algorithm</th>\n",
       "      <th>ROC-AUC train score</th>\n",
       "      <th>ROC-AUC test score</th>\n",
       "    </tr>\n",
       "  </thead>\n",
       "  <tbody>\n",
       "    <tr>\n",
       "      <th>0</th>\n",
       "      <td>Logistic Regression</td>\n",
       "      <td>0.689458</td>\n",
       "      <td>0.652436</td>\n",
       "    </tr>\n",
       "    <tr>\n",
       "      <th>1</th>\n",
       "      <td>KNN</td>\n",
       "      <td>0.654870</td>\n",
       "      <td>0.622221</td>\n",
       "    </tr>\n",
       "    <tr>\n",
       "      <th>2</th>\n",
       "      <td>Random Forest</td>\n",
       "      <td>0.676307</td>\n",
       "      <td>0.657720</td>\n",
       "    </tr>\n",
       "    <tr>\n",
       "      <th>3</th>\n",
       "      <td>Naive Bayes</td>\n",
       "      <td>0.562307</td>\n",
       "      <td>0.550281</td>\n",
       "    </tr>\n",
       "    <tr>\n",
       "      <th>4</th>\n",
       "      <td>Gradient Boost</td>\n",
       "      <td>0.710001</td>\n",
       "      <td>0.688492</td>\n",
       "    </tr>\n",
       "  </tbody>\n",
       "</table>\n",
       "</div>"
      ],
      "text/plain": [
       "             Algorithm  ROC-AUC train score  ROC-AUC test score\n",
       "0  Logistic Regression             0.689458            0.652436\n",
       "1                  KNN             0.654870            0.622221\n",
       "2        Random Forest             0.676307            0.657720\n",
       "3          Naive Bayes             0.562307            0.550281\n",
       "4       Gradient Boost             0.710001            0.688492"
      ]
     },
     "execution_count": 34,
     "metadata": {},
     "output_type": "execute_result"
    }
   ],
   "source": [
    "myLabels = [ 'Logistic Regression','KNN','Random Forest', 'Naive Bayes', 'Gradient Boost']\n",
    "score_test= [  cv_scores_lr_test,cv_scores_knn_test,cv_scores_rf_test,cv_scores_nb_test, cv_scores_gbc_test]\n",
    "score_train= [  cv_scores_lr_train,cv_scores_knn_train,cv_scores_rf_train,cv_scores_nb_train, cv_scores_gbc_train]\n",
    "Accuracy_score = [Accuracy_lr,Accuracy_knn,Accuracy_rf,Accuracy_nb, Accuracy_gbc]\n",
    "\n",
    "score_tab_acc = pd.DataFrame(list(zip(myLabels, Accuracy_score)), \n",
    "               columns =['Algorithm', 'Model accuracy score']) \n",
    "\n",
    "score_tab = pd.DataFrame(list(zip(myLabels, score_train, score_test)), \n",
    "               columns =['Algorithm', 'ROC-AUC train score', 'ROC-AUC test score' ]) \n",
    "print(score_tab_acc)\n",
    "\n",
    "score_tab"
   ]
  },
  {
   "cell_type": "code",
   "execution_count": 35,
   "id": "2b69f3c2",
   "metadata": {},
   "outputs": [
    {
     "data": {
      "image/png": "[encoded data removed]",
      "text/plain": [
       "<Figure size 720x360 with 1 Axes>"
      ]
     },
     "metadata": {
      "needs_background": "light"
     },
     "output_type": "display_data"
    },
    {
     "data": {
      "image/png": "[encoded data removed]",
      "text/plain": [
       "<Figure size 720x360 with 1 Axes>"
      ]
     },
     "metadata": {
      "needs_background": "light"
     },
     "output_type": "display_data"
    }
   ],
   "source": [
    "#plotting the accuracy scores:\n",
    "\n",
    "\n",
    "index=[1,2,3,4,5]\n",
    "index_acc=[1,2,3,4,5]\n",
    "plt.figure(figsize=(10,5))\n",
    "plt.xlabel('Models',fontsize=15)\n",
    "plt.ylabel ('Model accuracy scores',fontsize=15)\n",
    "plt.title('Comparison of the algorithms',fontsize=15)\n",
    "#patterns = [ \"/\"]\n",
    "_=plt.bar(index_acc,Accuracy_score,color='coral',alpha=0.8,label='Accuracy score',edgecolor='k',width=0.3)\n",
    "plt.xticks([1, 2,3,4, 5], myLabels)\n",
    "#plt.legend()\n",
    "plt.savefig(\"26.png\")\n",
    "plt.show()\n",
    "\n",
    "#plotting and comparing ROC-AUC train/test scores:\n",
    "\n",
    "index=[1,2,3,4,5]\n",
    "index_acc=[1.2,2.2,3.2,4.2, 5.2]\n",
    "plt.figure(figsize=(10,5))\n",
    "plt.xlabel('Models',fontsize=15)\n",
    "plt.ylabel ('ROC-AUC scores',fontsize=15)\n",
    "plt.title('Comparison of the algorithms',fontsize=15)\n",
    "_=plt.bar(index,score_train,color='b',alpha=0.6,label='Training score',edgecolor='k',width=0.2)\n",
    "_=plt.bar(index_acc,score_test,color='cyan',alpha=0.8,label='Test score',edgecolor='k',width=0.2)\n",
    "plt.xticks([1, 2,3,4,5], myLabels)\n",
    "plt.legend()\n",
    "plt.savefig(\"27.png\")\n",
    "plt.show()"
   ]
  },
  {
   "cell_type": "markdown",
   "id": "c9618711",
   "metadata": {},
   "source": [
    "Our two best performing models are Random Forest and Gradient Boost (Gradient Boost being the better of the two). So lets work on fine tuning them:\n",
    "\n",
    "## Hyperparameter Tuning using Grid search CV:\n",
    "\n",
    "### Random Forest:"
   ]
  },
  {
   "cell_type": "code",
   "execution_count": 29,
   "id": "dc7fa27c",
   "metadata": {},
   "outputs": [
    {
     "name": "stdout",
     "output_type": "stream",
     "text": [
      "RandomForestClassifier(min_samples_split=16, n_estimators=1000, n_jobs=-1,\n",
      "                       random_state=1)\n",
      "0.6673706504648885\n"
     ]
    }
   ],
   "source": [
    "from sklearn.model_selection import GridSearchCV\n",
    "\n",
    "rf = RandomForestClassifier(max_features='auto',random_state=1, n_jobs=-1)\n",
    "\n",
    "param_grid = { \"criterion\" : [\"gini\", \"entropy\"], \"min_samples_leaf\" : [1, 5, 10], \"min_samples_split\" : [2, 4, 10,12,16], \"n_estimators\": [50, 100,400,700,1000]}\n",
    "\n",
    "gs = GridSearchCV(estimator=rf, param_grid=param_grid, scoring='accuracy', cv=3, n_jobs=-1)\n",
    "\n",
    "gs = gs.fit(x_train, y_train)\n",
    "\n",
    "print(gs.best_estimator_) \n",
    "print(gs.best_score_)"
   ]
  },
  {
   "cell_type": "code",
   "execution_count": 37,
   "id": "78a7b1d2",
   "metadata": {},
   "outputs": [
    {
     "name": "stdout",
     "output_type": "stream",
     "text": [
      "0.6679389312977099\n",
      "0.6967684652708985\n"
     ]
    }
   ],
   "source": [
    "\n",
    "rf = RandomForestClassifier(min_samples_split=16, n_estimators=1000, n_jobs=-1,\n",
    "                       random_state=1)\n",
    "rf.fit(x_train, y_train)\n",
    "y_predictions_rf = rf.predict(x_test)\n",
    "acc = accuracy_score(y_test, y_predictions_rf)\n",
    "cv = cross_val_score(rf, x_test, y_test,scoring='roc_auc').mean()\n",
    "print(acc)\n",
    "print(cv)"
   ]
  },
  {
   "cell_type": "code",
   "execution_count": 49,
   "id": "fb05f89e",
   "metadata": {},
   "outputs": [
    {
     "data": {
      "text/plain": [
       "array([6.89559251e-03, 7.72597501e-03, 1.31722621e-01, ...,\n",
       "       1.19841806e-04, 2.77703310e-04, 2.07132944e-04])"
      ]
     },
     "execution_count": 49,
     "metadata": {},
     "output_type": "execute_result"
    }
   ],
   "source": [
    "imps"
   ]
  },
  {
   "cell_type": "code",
   "execution_count": 52,
   "id": "93dfa2c2",
   "metadata": {},
   "outputs": [
    {
     "data": {
      "image/png": "[encoded data removed]",
      "text/plain": [
       "<Figure size 720x360 with 1 Axes>"
      ]
     },
     "metadata": {
      "needs_background": "light"
     },
     "output_type": "display_data"
    }
   ],
   "source": [
    "plt.subplots(figsize=(10, 5))\n",
    "imps = rf.feature_importances_\n",
    "rf_feat_imps = pd.Series(imps, index=x_train.columns).sort_values(ascending=False)\n",
    "rf_feat_imps[-20:].plot(kind='bar')\n",
    "plt.xlabel('features')\n",
    "plt.ylabel('importance')\n",
    "plt.title('Best random forest regressor feature importances');"
   ]
  },
  {
   "cell_type": "code",
   "execution_count": 38,
   "id": "9eccfada",
   "metadata": {},
   "outputs": [
    {
     "name": "stdout",
     "output_type": "stream",
     "text": [
      "     Features  Importance scores\n",
      "0           0           0.000000\n",
      "1           1           0.000000\n",
      "2           2           0.000000\n",
      "3           3           0.000000\n",
      "4           4           0.000000\n",
      "...       ...                ...\n",
      "1471     1471           0.017350\n",
      "1472     1472           0.027313\n",
      "1473     1473           0.062047\n",
      "1474     1474           0.128981\n",
      "1475     1475           0.131723\n",
      "\n",
      "[1476 rows x 2 columns]\n"
     ]
    },
    {
     "ename": "ValueError",
     "evalue": "shape mismatch: objects cannot be broadcast to a single shape",
     "output_type": "error",
     "traceback": [
      "\u001b[1;31m---------------------------------------------------------------------------\u001b[0m",
      "\u001b[1;31mValueError\u001b[0m                                Traceback (most recent call last)",
      "\u001b[1;32m<ipython-input-38-b51b0ac9446c>\u001b[0m in \u001b[0;36m<module>\u001b[1;34m\u001b[0m\n\u001b[0;32m     11\u001b[0m \u001b[1;31m#indices = np.argsort(importances)\u001b[0m\u001b[1;33m\u001b[0m\u001b[1;33m\u001b[0m\u001b[1;33m\u001b[0m\u001b[0m\n\u001b[0;32m     12\u001b[0m \u001b[0mindex\u001b[0m \u001b[1;33m=\u001b[0m \u001b[1;33m[\u001b[0m\u001b[1;36m0\u001b[0m\u001b[1;33m,\u001b[0m\u001b[1;36m1\u001b[0m\u001b[1;33m,\u001b[0m\u001b[1;36m2\u001b[0m\u001b[1;33m,\u001b[0m\u001b[1;36m3\u001b[0m\u001b[1;33m,\u001b[0m\u001b[1;36m4\u001b[0m\u001b[1;33m,\u001b[0m\u001b[1;36m5\u001b[0m\u001b[1;33m,\u001b[0m\u001b[1;36m6\u001b[0m\u001b[1;33m,\u001b[0m\u001b[1;36m7\u001b[0m\u001b[1;33m,\u001b[0m\u001b[1;36m8\u001b[0m\u001b[1;33m,\u001b[0m\u001b[1;36m9\u001b[0m\u001b[1;33m,\u001b[0m\u001b[1;36m10\u001b[0m\u001b[1;33m,\u001b[0m\u001b[1;36m11\u001b[0m\u001b[1;33m,\u001b[0m\u001b[1;36m12\u001b[0m\u001b[1;33m,\u001b[0m\u001b[1;36m13\u001b[0m\u001b[1;33m,\u001b[0m\u001b[1;36m14\u001b[0m\u001b[1;33m,\u001b[0m\u001b[1;36m15\u001b[0m\u001b[1;33m,\u001b[0m\u001b[1;36m16\u001b[0m\u001b[1;33m,\u001b[0m\u001b[1;36m17\u001b[0m\u001b[1;33m]\u001b[0m\u001b[1;33m\u001b[0m\u001b[1;33m\u001b[0m\u001b[0m\n\u001b[1;32m---> 13\u001b[1;33m \u001b[0m_\u001b[0m\u001b[1;33m=\u001b[0m\u001b[0mplt\u001b[0m\u001b[1;33m.\u001b[0m\u001b[0mbarh\u001b[0m\u001b[1;33m(\u001b[0m\u001b[0mindex\u001b[0m\u001b[1;33m,\u001b[0m\u001b[0mimp\u001b[0m\u001b[1;33m,\u001b[0m \u001b[0malign\u001b[0m\u001b[1;33m=\u001b[0m\u001b[1;34m'center'\u001b[0m\u001b[1;33m,\u001b[0m\u001b[0mcolor\u001b[0m\u001b[1;33m=\u001b[0m\u001b[1;34m'b'\u001b[0m\u001b[1;33m)\u001b[0m\u001b[1;33m\u001b[0m\u001b[1;33m\u001b[0m\u001b[0m\n\u001b[0m\u001b[0;32m     14\u001b[0m \u001b[0mplt\u001b[0m\u001b[1;33m.\u001b[0m\u001b[0mxlabel\u001b[0m\u001b[1;33m(\u001b[0m\u001b[1;34m'Relative Importance'\u001b[0m\u001b[1;33m,\u001b[0m\u001b[0mfontsize\u001b[0m\u001b[1;33m=\u001b[0m\u001b[1;36m15\u001b[0m\u001b[1;33m)\u001b[0m\u001b[1;33m\u001b[0m\u001b[1;33m\u001b[0m\u001b[0m\n\u001b[0;32m     15\u001b[0m \u001b[0mplt\u001b[0m\u001b[1;33m.\u001b[0m\u001b[0mylabel\u001b[0m\u001b[1;33m(\u001b[0m\u001b[1;34m'Features'\u001b[0m\u001b[1;33m,\u001b[0m\u001b[0mfontsize\u001b[0m\u001b[1;33m=\u001b[0m\u001b[1;36m15\u001b[0m\u001b[1;33m)\u001b[0m\u001b[1;33m\u001b[0m\u001b[1;33m\u001b[0m\u001b[0m\n",
      "\u001b[1;32m~\\anaconda3\\lib\\site-packages\\matplotlib\\pyplot.py\u001b[0m in \u001b[0;36mbarh\u001b[1;34m(y, width, height, left, align, **kwargs)\u001b[0m\n\u001b[0;32m   2500\u001b[0m \u001b[1;33m@\u001b[0m\u001b[0m_copy_docstring_and_deprecators\u001b[0m\u001b[1;33m(\u001b[0m\u001b[0mAxes\u001b[0m\u001b[1;33m.\u001b[0m\u001b[0mbarh\u001b[0m\u001b[1;33m)\u001b[0m\u001b[1;33m\u001b[0m\u001b[1;33m\u001b[0m\u001b[0m\n\u001b[0;32m   2501\u001b[0m \u001b[1;32mdef\u001b[0m \u001b[0mbarh\u001b[0m\u001b[1;33m(\u001b[0m\u001b[0my\u001b[0m\u001b[1;33m,\u001b[0m \u001b[0mwidth\u001b[0m\u001b[1;33m,\u001b[0m \u001b[0mheight\u001b[0m\u001b[1;33m=\u001b[0m\u001b[1;36m0.8\u001b[0m\u001b[1;33m,\u001b[0m \u001b[0mleft\u001b[0m\u001b[1;33m=\u001b[0m\u001b[1;32mNone\u001b[0m\u001b[1;33m,\u001b[0m \u001b[1;33m*\u001b[0m\u001b[1;33m,\u001b[0m \u001b[0malign\u001b[0m\u001b[1;33m=\u001b[0m\u001b[1;34m'center'\u001b[0m\u001b[1;33m,\u001b[0m \u001b[1;33m**\u001b[0m\u001b[0mkwargs\u001b[0m\u001b[1;33m)\u001b[0m\u001b[1;33m:\u001b[0m\u001b[1;33m\u001b[0m\u001b[1;33m\u001b[0m\u001b[0m\n\u001b[1;32m-> 2502\u001b[1;33m     return gca().barh(\n\u001b[0m\u001b[0;32m   2503\u001b[0m         y, width, height=height, left=left, align=align, **kwargs)\n\u001b[0;32m   2504\u001b[0m \u001b[1;33m\u001b[0m\u001b[0m\n",
      "\u001b[1;32m~\\anaconda3\\lib\\site-packages\\matplotlib\\axes\\_axes.py\u001b[0m in \u001b[0;36mbarh\u001b[1;34m(self, y, width, height, left, align, **kwargs)\u001b[0m\n\u001b[0;32m   2628\u001b[0m         \"\"\"\n\u001b[0;32m   2629\u001b[0m         \u001b[0mkwargs\u001b[0m\u001b[1;33m.\u001b[0m\u001b[0msetdefault\u001b[0m\u001b[1;33m(\u001b[0m\u001b[1;34m'orientation'\u001b[0m\u001b[1;33m,\u001b[0m \u001b[1;34m'horizontal'\u001b[0m\u001b[1;33m)\u001b[0m\u001b[1;33m\u001b[0m\u001b[1;33m\u001b[0m\u001b[0m\n\u001b[1;32m-> 2630\u001b[1;33m         patches = self.bar(x=left, height=height, width=width, bottom=y,\n\u001b[0m\u001b[0;32m   2631\u001b[0m                            align=align, **kwargs)\n\u001b[0;32m   2632\u001b[0m         \u001b[1;32mreturn\u001b[0m \u001b[0mpatches\u001b[0m\u001b[1;33m\u001b[0m\u001b[1;33m\u001b[0m\u001b[0m\n",
      "\u001b[1;32m~\\anaconda3\\lib\\site-packages\\matplotlib\\__init__.py\u001b[0m in \u001b[0;36minner\u001b[1;34m(ax, data, *args, **kwargs)\u001b[0m\n\u001b[0;32m   1445\u001b[0m     \u001b[1;32mdef\u001b[0m \u001b[0minner\u001b[0m\u001b[1;33m(\u001b[0m\u001b[0max\u001b[0m\u001b[1;33m,\u001b[0m \u001b[1;33m*\u001b[0m\u001b[0margs\u001b[0m\u001b[1;33m,\u001b[0m \u001b[0mdata\u001b[0m\u001b[1;33m=\u001b[0m\u001b[1;32mNone\u001b[0m\u001b[1;33m,\u001b[0m \u001b[1;33m**\u001b[0m\u001b[0mkwargs\u001b[0m\u001b[1;33m)\u001b[0m\u001b[1;33m:\u001b[0m\u001b[1;33m\u001b[0m\u001b[1;33m\u001b[0m\u001b[0m\n\u001b[0;32m   1446\u001b[0m         \u001b[1;32mif\u001b[0m \u001b[0mdata\u001b[0m \u001b[1;32mis\u001b[0m \u001b[1;32mNone\u001b[0m\u001b[1;33m:\u001b[0m\u001b[1;33m\u001b[0m\u001b[1;33m\u001b[0m\u001b[0m\n\u001b[1;32m-> 1447\u001b[1;33m             \u001b[1;32mreturn\u001b[0m \u001b[0mfunc\u001b[0m\u001b[1;33m(\u001b[0m\u001b[0max\u001b[0m\u001b[1;33m,\u001b[0m \u001b[1;33m*\u001b[0m\u001b[0mmap\u001b[0m\u001b[1;33m(\u001b[0m\u001b[0msanitize_sequence\u001b[0m\u001b[1;33m,\u001b[0m \u001b[0margs\u001b[0m\u001b[1;33m)\u001b[0m\u001b[1;33m,\u001b[0m \u001b[1;33m**\u001b[0m\u001b[0mkwargs\u001b[0m\u001b[1;33m)\u001b[0m\u001b[1;33m\u001b[0m\u001b[1;33m\u001b[0m\u001b[0m\n\u001b[0m\u001b[0;32m   1448\u001b[0m \u001b[1;33m\u001b[0m\u001b[0m\n\u001b[0;32m   1449\u001b[0m         \u001b[0mbound\u001b[0m \u001b[1;33m=\u001b[0m \u001b[0mnew_sig\u001b[0m\u001b[1;33m.\u001b[0m\u001b[0mbind\u001b[0m\u001b[1;33m(\u001b[0m\u001b[0max\u001b[0m\u001b[1;33m,\u001b[0m \u001b[1;33m*\u001b[0m\u001b[0margs\u001b[0m\u001b[1;33m,\u001b[0m \u001b[1;33m**\u001b[0m\u001b[0mkwargs\u001b[0m\u001b[1;33m)\u001b[0m\u001b[1;33m\u001b[0m\u001b[1;33m\u001b[0m\u001b[0m\n",
      "\u001b[1;32m~\\anaconda3\\lib\\site-packages\\matplotlib\\axes\\_axes.py\u001b[0m in \u001b[0;36mbar\u001b[1;34m(self, x, height, width, bottom, align, **kwargs)\u001b[0m\n\u001b[0;32m   2428\u001b[0m                 \u001b[0myerr\u001b[0m \u001b[1;33m=\u001b[0m \u001b[0mself\u001b[0m\u001b[1;33m.\u001b[0m\u001b[0m_convert_dx\u001b[0m\u001b[1;33m(\u001b[0m\u001b[0myerr\u001b[0m\u001b[1;33m,\u001b[0m \u001b[0my0\u001b[0m\u001b[1;33m,\u001b[0m \u001b[0my\u001b[0m\u001b[1;33m,\u001b[0m \u001b[0mself\u001b[0m\u001b[1;33m.\u001b[0m\u001b[0mconvert_yunits\u001b[0m\u001b[1;33m)\u001b[0m\u001b[1;33m\u001b[0m\u001b[1;33m\u001b[0m\u001b[0m\n\u001b[0;32m   2429\u001b[0m \u001b[1;33m\u001b[0m\u001b[0m\n\u001b[1;32m-> 2430\u001b[1;33m         x, height, width, y, linewidth = np.broadcast_arrays(\n\u001b[0m\u001b[0;32m   2431\u001b[0m             \u001b[1;31m# Make args iterable too.\u001b[0m\u001b[1;33m\u001b[0m\u001b[1;33m\u001b[0m\u001b[1;33m\u001b[0m\u001b[0m\n\u001b[0;32m   2432\u001b[0m             np.atleast_1d(x), height, width, y, linewidth)\n",
      "\u001b[1;32m<__array_function__ internals>\u001b[0m in \u001b[0;36mbroadcast_arrays\u001b[1;34m(*args, **kwargs)\u001b[0m\n",
      "\u001b[1;32m~\\anaconda3\\lib\\site-packages\\numpy\\lib\\stride_tricks.py\u001b[0m in \u001b[0;36mbroadcast_arrays\u001b[1;34m(subok, *args)\u001b[0m\n\u001b[0;32m    536\u001b[0m     \u001b[0margs\u001b[0m \u001b[1;33m=\u001b[0m \u001b[1;33m[\u001b[0m\u001b[0mnp\u001b[0m\u001b[1;33m.\u001b[0m\u001b[0marray\u001b[0m\u001b[1;33m(\u001b[0m\u001b[0m_m\u001b[0m\u001b[1;33m,\u001b[0m \u001b[0mcopy\u001b[0m\u001b[1;33m=\u001b[0m\u001b[1;32mFalse\u001b[0m\u001b[1;33m,\u001b[0m \u001b[0msubok\u001b[0m\u001b[1;33m=\u001b[0m\u001b[0msubok\u001b[0m\u001b[1;33m)\u001b[0m \u001b[1;32mfor\u001b[0m \u001b[0m_m\u001b[0m \u001b[1;32min\u001b[0m \u001b[0margs\u001b[0m\u001b[1;33m]\u001b[0m\u001b[1;33m\u001b[0m\u001b[1;33m\u001b[0m\u001b[0m\n\u001b[0;32m    537\u001b[0m \u001b[1;33m\u001b[0m\u001b[0m\n\u001b[1;32m--> 538\u001b[1;33m     \u001b[0mshape\u001b[0m \u001b[1;33m=\u001b[0m \u001b[0m_broadcast_shape\u001b[0m\u001b[1;33m(\u001b[0m\u001b[1;33m*\u001b[0m\u001b[0margs\u001b[0m\u001b[1;33m)\u001b[0m\u001b[1;33m\u001b[0m\u001b[1;33m\u001b[0m\u001b[0m\n\u001b[0m\u001b[0;32m    539\u001b[0m \u001b[1;33m\u001b[0m\u001b[0m\n\u001b[0;32m    540\u001b[0m     \u001b[1;32mif\u001b[0m \u001b[0mall\u001b[0m\u001b[1;33m(\u001b[0m\u001b[0marray\u001b[0m\u001b[1;33m.\u001b[0m\u001b[0mshape\u001b[0m \u001b[1;33m==\u001b[0m \u001b[0mshape\u001b[0m \u001b[1;32mfor\u001b[0m \u001b[0marray\u001b[0m \u001b[1;32min\u001b[0m \u001b[0margs\u001b[0m\u001b[1;33m)\u001b[0m\u001b[1;33m:\u001b[0m\u001b[1;33m\u001b[0m\u001b[1;33m\u001b[0m\u001b[0m\n",
      "\u001b[1;32m~\\anaconda3\\lib\\site-packages\\numpy\\lib\\stride_tricks.py\u001b[0m in \u001b[0;36m_broadcast_shape\u001b[1;34m(*args)\u001b[0m\n\u001b[0;32m    418\u001b[0m     \u001b[1;31m# use the old-iterator because np.nditer does not handle size 0 arrays\u001b[0m\u001b[1;33m\u001b[0m\u001b[1;33m\u001b[0m\u001b[1;33m\u001b[0m\u001b[0m\n\u001b[0;32m    419\u001b[0m     \u001b[1;31m# consistently\u001b[0m\u001b[1;33m\u001b[0m\u001b[1;33m\u001b[0m\u001b[1;33m\u001b[0m\u001b[0m\n\u001b[1;32m--> 420\u001b[1;33m     \u001b[0mb\u001b[0m \u001b[1;33m=\u001b[0m \u001b[0mnp\u001b[0m\u001b[1;33m.\u001b[0m\u001b[0mbroadcast\u001b[0m\u001b[1;33m(\u001b[0m\u001b[1;33m*\u001b[0m\u001b[0margs\u001b[0m\u001b[1;33m[\u001b[0m\u001b[1;33m:\u001b[0m\u001b[1;36m32\u001b[0m\u001b[1;33m]\u001b[0m\u001b[1;33m)\u001b[0m\u001b[1;33m\u001b[0m\u001b[1;33m\u001b[0m\u001b[0m\n\u001b[0m\u001b[0;32m    421\u001b[0m     \u001b[1;31m# unfortunately, it cannot handle 32 or more arguments directly\u001b[0m\u001b[1;33m\u001b[0m\u001b[1;33m\u001b[0m\u001b[1;33m\u001b[0m\u001b[0m\n\u001b[0;32m    422\u001b[0m     \u001b[1;32mfor\u001b[0m \u001b[0mpos\u001b[0m \u001b[1;32min\u001b[0m \u001b[0mrange\u001b[0m\u001b[1;33m(\u001b[0m\u001b[1;36m32\u001b[0m\u001b[1;33m,\u001b[0m \u001b[0mlen\u001b[0m\u001b[1;33m(\u001b[0m\u001b[0margs\u001b[0m\u001b[1;33m)\u001b[0m\u001b[1;33m,\u001b[0m \u001b[1;36m31\u001b[0m\u001b[1;33m)\u001b[0m\u001b[1;33m:\u001b[0m\u001b[1;33m\u001b[0m\u001b[1;33m\u001b[0m\u001b[0m\n",
      "\u001b[1;31mValueError\u001b[0m: shape mismatch: objects cannot be broadcast to a single shape"
     ]
    },
    {
     "data": {
      "image/png": "[encoded data removed]",
      "text/plain": [
       "<Figure size 720x360 with 1 Axes>"
      ]
     },
     "metadata": {
      "needs_background": "light"
     },
     "output_type": "display_data"
    }
   ],
   "source": [
    "#Feature importances:\n",
    "\n",
    "features = x_train.columns\n",
    "importances = list(rf.feature_importances_)\n",
    "imp=np.sort(importances)\n",
    "tab=pd.DataFrame(list(zip(x_train,imp)),columns =['Features', 'Importance scores']) \n",
    "print(tab)\n",
    "\n",
    "#Visual comparison:\n",
    "plt.figure(figsize=(10,5))\n",
    "#indices = np.argsort(importances)\n",
    "index = [0,1,2,3,4,5,6,7,8,9,10,11,12,13,14,15,16,17]\n",
    "_=plt.barh(index,imp, align='center',color='b')\n",
    "plt.xlabel('Relative Importance',fontsize=15)\n",
    "plt.ylabel('Features',fontsize=15)\n",
    "plt.yticks(index, features)\n",
    "plt.title('Feature Importances for Random Forest classifier model',fontsize=15)\n",
    "plt.savefig(\"28.png\")\n",
    "plt.show()\n",
    "len(importances)\n"
   ]
  },
  {
   "cell_type": "code",
   "execution_count": 45,
   "id": "aa820c86",
   "metadata": {},
   "outputs": [
    {
     "data": {
      "text/plain": [
       "array([6.89559251e-03, 7.72597501e-03, 1.31722621e-01, ...,\n",
       "       1.19841806e-04, 2.77703310e-04, 2.07132944e-04])"
      ]
     },
     "execution_count": 45,
     "metadata": {},
     "output_type": "execute_result"
    }
   ],
   "source": [
    "rf.feature_importances_"
   ]
  },
  {
   "cell_type": "code",
   "execution_count": null,
   "id": "75ac2cd1",
   "metadata": {},
   "outputs": [],
   "source": [
    "\n",
    "from sklearn.metrics import auc, roc_curve, roc_auc_score\n",
    "y_scores_rf = rf.predict_proba(x_test)\n",
    "y_scores_rf = y_scores_rf[:,1]\n",
    "auroc = roc_auc_score(y_test, y_scores_rf)\n",
    "print(\"ROC-AUC Score:\", auroc)"
   ]
  },
  {
   "cell_type": "code",
   "execution_count": null,
   "id": "db9e08af",
   "metadata": {},
   "outputs": [],
   "source": [
    "false_positive_rate, true_positive_rate, thresholds = roc_curve(y_test, y_scores_rf)\n",
    "def plot_roc_curve(false_positive_rate, true_positive_rate, label=None):\n",
    "    plt.plot(false_positive_rate, true_positive_rate, linewidth=2, label=label)\n",
    "    plt.plot([0, 1], [0, 1], 'r', linewidth=4)\n",
    "    plt.axis([0, 1, 0, 1])\n",
    "    plt.xlabel('False Positive Rate (FPR)', fontsize=15)\n",
    "    plt.ylabel('True Positive Rate (TPR)', fontsize=15)\n",
    "    plt.title('ROC curve (RF)',fontsize=15)\n",
    "\n",
    "plt.figure(figsize=(10, 5))\n",
    "plot_roc_curve(false_positive_rate, true_positive_rate)\n",
    "plt.savefig(\"30.png\")\n",
    "plt.show()"
   ]
  },
  {
   "cell_type": "code",
   "execution_count": null,
   "id": "f246dc42",
   "metadata": {},
   "outputs": [],
   "source": []
  }
 ],
 "metadata": {
  "kernelspec": {
   "display_name": "Python 3",
   "language": "python",
   "name": "python3"
  },
  "language_info": {
   "codemirror_mode": {
    "name": "ipython",
    "version": 3
   },
   "file_extension": ".py",
   "mimetype": "text/x-python",
   "name": "python",
   "nbconvert_exporter": "python",
   "pygments_lexer": "ipython3",
   "version": "3.8.8"
  }
 },
 "nbformat": 4,
 "nbformat_minor": 5
}
