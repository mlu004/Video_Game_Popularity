{
 "cells": [
  {
   "cell_type": "markdown",
   "id": "2f1ab30a",
   "metadata": {},
   "source": [
    "# Modeling Video Game Popularity\n",
    "\n",
    "In the previous notebook we looked at several data sets, to determine threshold values and ways to determine popularity. After noting which datasets lacked sufficient information and what datasets we could combine, we have settled on 3 sets to model with. The main one we will be looking at is the 2019 Steam Tag data, the other two will be for personal curiosity to see if we get significantly different results. These two additional sets will be the 2019 Video Game Sales data and the Merged data set of the two previously mentioned.\n",
    "\n",
    "#### Things to note that have been done:\n",
    "\n",
    "- Dropped columns that were not independent variables (Ie. an individual does not have control over these when designing the game) other than the variable we chose to determine popularity (Rating).\n",
    "- Created dummy variables of categorical values\n",
    "- Train_test_split:\n",
    " - We chose our dependent variable to be categorical of Popularity, which is determined by if a game achieved more than 70% rating\n",
    " \n",
    "#### What we will be doing in this notebook: \n",
    "\n",
    "Selecting a model that works best to predict the popularity of a game, and thus informing us as to what features are most important to have in our games. We will be looking at Logistic Regression, K-Nearest Neighbors, Support vector Machines, and Random Forests."
   ]
  },
  {
   "cell_type": "code",
   "execution_count": 1,
   "id": "6389fe43",
   "metadata": {},
   "outputs": [],
   "source": [
    "import pandas as pd\n",
    "import seaborn as sns\n",
    "import numpy as np\n",
    "import matplotlib.pyplot as plt\n",
    "import math\n",
    "\n",
    "from sklearn.linear_model import LogisticRegression\n",
    "from sklearn.model_selection import GridSearchCV\n",
    "from sklearn.metrics import accuracy_score\n",
    "from sklearn.model_selection import validation_curve\n",
    "\n",
    "import warnings\n",
    "warnings.filterwarnings('ignore')"
   ]
  },
  {
   "cell_type": "markdown",
   "id": "a8df64ae",
   "metadata": {},
   "source": [
    "## Loading Training data: steam tags"
   ]
  },
  {
   "cell_type": "code",
   "execution_count": 2,
   "id": "016609b3",
   "metadata": {},
   "outputs": [],
   "source": [
    "x_train = pd.read_csv(\"C:/Users/book_/OneDrive/Documents/GitHub/Capstone2-Video-Game-Popularity/preprocessed_data/x_steam_train.csv\", index_col=0)\n",
    "y_train = pd.read_csv(\"C:/Users/book_/OneDrive/Documents/GitHub/Capstone2-Video-Game-Popularity/preprocessed_data/y_steam_train.csv\", index_col=0)\n",
    "\n",
    "x_test = pd.read_csv(\"C:/Users/book_/OneDrive/Documents/GitHub/Capstone2-Video-Game-Popularity/preprocessed_data/x_steam_test.csv\", index_col=0)\n",
    "y_test = pd.read_csv(\"C:/Users/book_/OneDrive/Documents/GitHub/Capstone2-Video-Game-Popularity/preprocessed_data/y_steam_test.csv\", index_col=0)\n"
   ]
  },
  {
   "cell_type": "code",
   "execution_count": 3,
   "id": "23c2f4d6",
   "metadata": {},
   "outputs": [
    {
     "name": "stdout",
     "output_type": "stream",
     "text": [
      "(18949, 1476)\n",
      "(18949, 1)\n"
     ]
    }
   ],
   "source": [
    "print(x_train.shape)\n",
    "print(y_train.shape)"
   ]
  },
  {
   "cell_type": "markdown",
   "id": "4c9df75e",
   "metadata": {},
   "source": [
    "### I. Logistic Regression"
   ]
  },
  {
   "cell_type": "code",
   "execution_count": 4,
   "id": "f3ae0554",
   "metadata": {},
   "outputs": [
    {
     "data": {
      "text/html": [
       "<div>\n",
       "<style scoped>\n",
       "    .dataframe tbody tr th:only-of-type {\n",
       "        vertical-align: middle;\n",
       "    }\n",
       "\n",
       "    .dataframe tbody tr th {\n",
       "        vertical-align: top;\n",
       "    }\n",
       "\n",
       "    .dataframe thead th {\n",
       "        text-align: right;\n",
       "    }\n",
       "</style>\n",
       "<table border=\"1\" class=\"dataframe\">\n",
       "  <thead>\n",
       "    <tr style=\"text-align: right;\">\n",
       "      <th></th>\n",
       "      <th>C_parameter</th>\n",
       "      <th>Accuracy</th>\n",
       "    </tr>\n",
       "  </thead>\n",
       "  <tbody>\n",
       "    <tr>\n",
       "      <th>0</th>\n",
       "      <td>0.001</td>\n",
       "      <td>0.666585</td>\n",
       "    </tr>\n",
       "    <tr>\n",
       "      <th>1</th>\n",
       "      <td>0.010</td>\n",
       "      <td>0.667446</td>\n",
       "    </tr>\n",
       "    <tr>\n",
       "      <th>2</th>\n",
       "      <td>0.100</td>\n",
       "      <td>0.666338</td>\n",
       "    </tr>\n",
       "    <tr>\n",
       "      <th>3</th>\n",
       "      <td>1.000</td>\n",
       "      <td>0.666215</td>\n",
       "    </tr>\n",
       "    <tr>\n",
       "      <th>4</th>\n",
       "      <td>10.000</td>\n",
       "      <td>0.666215</td>\n",
       "    </tr>\n",
       "    <tr>\n",
       "      <th>5</th>\n",
       "      <td>100.000</td>\n",
       "      <td>0.665969</td>\n",
       "    </tr>\n",
       "  </tbody>\n",
       "</table>\n",
       "</div>"
      ],
      "text/plain": [
       "   C_parameter  Accuracy\n",
       "0        0.001  0.666585\n",
       "1        0.010  0.667446\n",
       "2        0.100  0.666338\n",
       "3        1.000  0.666215\n",
       "4       10.000  0.666215\n",
       "5      100.000  0.665969"
      ]
     },
     "execution_count": 4,
     "metadata": {},
     "output_type": "execute_result"
    }
   ],
   "source": [
    "C_param_range = [0.001,0.01,0.1,1,10,100]\n",
    "\n",
    "table = pd.DataFrame(columns = ['C_parameter','Accuracy'])\n",
    "table['C_parameter'] = C_param_range\n",
    "\n",
    "\n",
    "j = 0\n",
    "for i in C_param_range:\n",
    "    \n",
    "    # Apply logistic regression model to training data\n",
    "    Logreg = LogisticRegression(penalty = 'l2', C = i,random_state = 40)\n",
    "    Logreg.fit(x_train,y_train)\n",
    "    \n",
    "    # Predict using model\n",
    "    y_pred_lr = Logreg.predict(x_test)\n",
    "    \n",
    "    # Saving accuracy score in table\n",
    "    table.iloc[j,1] = accuracy_score(y_test,y_pred_lr)\n",
    "    j += 1\n",
    "    \n",
    "table"
   ]
  },
  {
   "cell_type": "code",
   "execution_count": 5,
   "id": "4d6c53b3",
   "metadata": {},
   "outputs": [
    {
     "name": "stdout",
     "output_type": "stream",
     "text": [
      "[[1291 1974]\n",
      " [ 739 4118]]\n",
      "0.6659689731593204\n"
     ]
    }
   ],
   "source": [
    "from sklearn.metrics import confusion_matrix\n",
    "\n",
    "cnf_matrix= confusion_matrix(y_test,y_pred_lr)\n",
    "print(cnf_matrix)\n",
    "Accuracy_lr=Logreg.score(x_test,y_test)\n",
    "\n",
    "print(Accuracy_lr)"
   ]
  },
  {
   "cell_type": "markdown",
   "id": "0bbb5ac7",
   "metadata": {},
   "source": [
    "Looks like our accuracy for a linear regression is 0.67 no matter what our parameter is set to."
   ]
  },
  {
   "cell_type": "code",
   "execution_count": 6,
   "id": "9d02a432",
   "metadata": {},
   "outputs": [
    {
     "name": "stdout",
     "output_type": "stream",
     "text": [
      "[0.64096698 0.63661307 0.66638252 0.65459584 0.66361939]\n",
      "Mean cross validation test score: 0.6524355593139284\n",
      "Mean cross validation train score: 0.6894576642310113\n",
      "Standard deviation in cv test scores: 0.011883955624493046\n"
     ]
    }
   ],
   "source": [
    "from sklearn.model_selection import cross_val_score\n",
    "\n",
    "cv_scores_test= cross_val_score(Logreg,x_test,y_test,cv=5,scoring='roc_auc')\n",
    "cv_scores_train= cross_val_score(Logreg,x_train,y_train,cv=5,scoring='roc_auc')\n",
    "print(cv_scores_test)\n",
    "cv_scores_lr_test= cv_scores_test.mean()\n",
    "cv_scores_lr_train= cv_scores_train.mean()\n",
    "cv_scores_std_test_lr= cv_scores_test.std()\n",
    "print ('Mean cross validation test score: ' +str(cv_scores_lr_test))\n",
    "print ('Mean cross validation train score: ' +str(cv_scores_lr_train))\n",
    "print ('Standard deviation in cv test scores: ' +str(cv_scores_std_test_lr))"
   ]
  },
  {
   "cell_type": "markdown",
   "id": "8084e64a",
   "metadata": {},
   "source": [
    "## II. K-Nearest Neighbor (KNN):"
   ]
  },
  {
   "cell_type": "code",
   "execution_count": 7,
   "id": "26fbcc18",
   "metadata": {},
   "outputs": [
    {
     "name": "stdout",
     "output_type": "stream",
     "text": [
      "[[1546 1719]\n",
      " [1143 3714]]\n",
      "0.6476237379955676\n"
     ]
    }
   ],
   "source": [
    "from sklearn.neighbors import KNeighborsClassifier\n",
    "#from sklearn.metrics import plot_roc_curve\n",
    "\n",
    "# Apply KNN model to training data:\n",
    "\n",
    "knn = KNeighborsClassifier(p=2,weights='distance',n_neighbors=50)\n",
    "knn.fit(x_train,y_train)\n",
    "\n",
    "# Predict using model:\n",
    "\n",
    "y_predict_knn=knn.predict(x_test)\n",
    "\n",
    "#Confusion matrix:\n",
    "\n",
    "cnf_matrix = confusion_matrix(y_test, y_predict_knn)\n",
    "print(cnf_matrix)\n",
    "Accuracy_knn=knn.score(x_test,y_test)\n",
    "\n",
    "print(Accuracy_knn)\n",
    "#knn_disp= plot_roc_curve(knn,X_test,y_test"
   ]
  },
  {
   "cell_type": "code",
   "execution_count": 8,
   "id": "6420a594",
   "metadata": {},
   "outputs": [
    {
     "name": "stdout",
     "output_type": "stream",
     "text": [
      "[0.6206516  0.59312196 0.62883814 0.62840049 0.64009176]\n",
      "Mean cross validation test score: 0.6222207906356931\n",
      "Mean cross validation train score: 0.6548701478214691\n",
      "Standard deviation in cv scores: 0.015814889351761386\n"
     ]
    }
   ],
   "source": [
    "cv_scores_test= cross_val_score(knn,x_test,y_test,cv=5,scoring='roc_auc')\n",
    "cv_scores_train= cross_val_score(knn,x_train,y_train,cv=5,scoring='roc_auc')\n",
    "print(cv_scores_test)\n",
    "cv_scores_knn_test= cv_scores_test.mean()\n",
    "cv_scores_knn_train= cv_scores_train.mean()\n",
    "cv_scores_std_knn= cv_scores_test.std()\n",
    "print ('Mean cross validation test score: ' +str(cv_scores_knn_test))\n",
    "print ('Mean cross validation train score: ' +str(cv_scores_knn_train))\n",
    "print ('Standard deviation in cv scores: ' +str(cv_scores_std_knn))"
   ]
  },
  {
   "cell_type": "markdown",
   "id": "137c3daf",
   "metadata": {},
   "source": [
    "## III. Support Vector Machine (SVM):"
   ]
  },
  {
   "cell_type": "code",
   "execution_count": 9,
   "id": "9807585d",
   "metadata": {},
   "outputs": [],
   "source": [
    "from sklearn.svm import SVC\n",
    "\n",
    "# svm = SVC(kernel='linear')\n",
    "# svm.fit(x_train, y_train)\n",
    "\n",
    "# # Predict using model:\n",
    "\n",
    "# y_predict_svm=svm.predict(x_test)\n",
    "\n",
    "# #Confusion matrix:\n",
    "\n",
    "# cnf_matrix = confusion_matrix(y_test, y_predict_svm)\n",
    "# print(cnf_matrix)\n",
    "\n",
    "# Accuracy_svm=svm.score(x_test,y_test)\n",
    "# print(Accuracy_svm)"
   ]
  },
  {
   "cell_type": "code",
   "execution_count": 10,
   "id": "b2be74b6",
   "metadata": {},
   "outputs": [],
   "source": [
    "# cv_scores_test= cross_val_score(svm,x_test,y_test,cv=5,scoring='roc_auc')\n",
    "# cv_scores_train= cross_val_score(svm,x_train,y_train,cv=5,scoring='roc_auc')\n",
    "# print(cv_scores_test)\n",
    "# cv_scores_svm_test= cv_scores_test.mean()\n",
    "# cv_scores_svm_train= cv_scores_train.mean()\n",
    "# cv_scores_std_svm= cv_scores_test.std()\n",
    "# print ('Mean cross validation test score: ' +str(cv_scores_svm_test))\n",
    "# print ('Mean cross validation train score: ' +str(cv_scores_svm_train))\n",
    "# print ('Standard deviation in cv scores: ' +str(cv_scores_std_svm))"
   ]
  },
  {
   "cell_type": "markdown",
   "id": "0624e5be",
   "metadata": {},
   "source": [
    "The SMV cells took too long for my computer to run. Here is the Accuracy_smv results. The computer could not handle cross validation:\n",
    "\n",
    "[[ 962 2303]\n",
    "\n",
    " [ 435 4422]]\n",
    "\n",
    "0.6628909135680867"
   ]
  },
  {
   "cell_type": "markdown",
   "id": "1f1b0038",
   "metadata": {},
   "source": [
    "## IV. Random Forest:"
   ]
  },
  {
   "cell_type": "code",
   "execution_count": 11,
   "id": "85f43228",
   "metadata": {},
   "outputs": [
    {
     "name": "stdout",
     "output_type": "stream",
     "text": [
      "[[1601 1664]\n",
      " [1189 3668]]\n",
      "0.6487318394484117\n"
     ]
    }
   ],
   "source": [
    "from sklearn.ensemble import RandomForestClassifier\n",
    "\n",
    "#Apply RF to the training data:\n",
    "\n",
    "rf = RandomForestClassifier(bootstrap=True,n_estimators=100,criterion='entropy')\n",
    "rf.fit(x_train, y_train)\n",
    "\n",
    "#Predict using the model:\n",
    "\n",
    "y_predict_rf = rf.predict(x_test)\n",
    "\n",
    "#Confusion matrix:\n",
    "\n",
    "cnf_matrix = confusion_matrix(y_test, y_predict_rf)\n",
    "print(cnf_matrix)\n",
    "Accuracy_rf=rf.score(x_test,y_test)\n",
    "print(Accuracy_rf)"
   ]
  },
  {
   "cell_type": "code",
   "execution_count": 12,
   "id": "73a6c2b3",
   "metadata": {},
   "outputs": [
    {
     "name": "stdout",
     "output_type": "stream",
     "text": [
      "[0.6585528  0.63138947 0.65685429 0.67705417 0.66519494]\n",
      "Mean cross validation test score: 0.6578091349583475\n",
      "Mean cross validation train score: 0.6772081953820478\n",
      "Standard deviation in cv scores: 0.014995899380975956\n"
     ]
    }
   ],
   "source": [
    "cv_scores_test= cross_val_score(rf,x_test,y_test,cv=5,scoring='roc_auc')\n",
    "cv_scores_train= cross_val_score(rf,x_train,y_train,cv=5,scoring='roc_auc')\n",
    "print(cv_scores_test)\n",
    "cv_scores_rf_test= cv_scores_test.mean()\n",
    "cv_scores_rf_train= cv_scores_train.mean()\n",
    "cv_scores_std_rf= cv_scores_test.std()\n",
    "print ('Mean cross validation test score: ' +str(cv_scores_rf_test))\n",
    "print ('Mean cross validation train score: ' +str(cv_scores_rf_train))\n",
    "print ('Standard deviation in cv scores: ' +str(cv_scores_std_rf))"
   ]
  },
  {
   "cell_type": "code",
   "execution_count": null,
   "id": "b4f72bf5",
   "metadata": {},
   "outputs": [],
   "source": []
  }
 ],
 "metadata": {
  "kernelspec": {
   "display_name": "Python 3",
   "language": "python",
   "name": "python3"
  },
  "language_info": {
   "codemirror_mode": {
    "name": "ipython",
    "version": 3
   },
   "file_extension": ".py",
   "mimetype": "text/x-python",
   "name": "python",
   "nbconvert_exporter": "python",
   "pygments_lexer": "ipython3",
   "version": "3.8.8"
  }
 },
 "nbformat": 4,
 "nbformat_minor": 5
}
